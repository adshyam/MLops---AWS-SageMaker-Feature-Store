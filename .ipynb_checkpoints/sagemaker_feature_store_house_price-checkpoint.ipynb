{
 "cells": [
  {
   "cell_type": "markdown",
   "id": "dde03f04-f3f8-4010-9f7b-e7c6c2829f00",
   "metadata": {},
   "source": [
    "# House Price Prediction with Amazon SageMaker FeatureStore\n"
   ]
  },
  {
   "cell_type": "markdown",
   "id": "8e84da20-1758-4213-993d-b7cd6d430eb4",
   "metadata": {},
   "source": [
    "\n",
    "Kernel `Python 3 (Data Science)` works well with this notebook.\n",
    "\n",
    "The following policies need to be attached to the execution role:\n",
    "- AmazonSageMakerFullAccess\n",
    "- AmazonS3FullAccess\n",
    "\n",
    "## Contents\n",
    "1. [Background](#Background)\n",
    "1. [Setup SageMaker FeatureStore](#Setup-SageMaker-FeatureStore)\n",
    "1. [Inspect Dataset](#Inspect-Dataset)\n",
    "1. [Ingest Data into FeatureStore](#Ingest-Data-into-FeatureStore)\n",
    "1. [Build Training Dataset](#Build-Training-Dataset)\n",
    "1. [Train and Deploy the Model](#Train-and-Deploy-the-Model)\n",
    "1. [SageMaker FeatureStore At Inference](#SageMaker-FeatureStore-During-Inference)\n",
    "1. [Cleanup Resources](#Cleanup-Resources)\n",
    "\n",
    "## Background\n",
    "\n",
    "Amazon SageMaker FeatureStore is a new SageMaker capability that makes it easy for customers to create and manage curated data for machine learning (ML) development. SageMaker FeatureStore enables data ingestion via a high TPS API and data consumption via the online and offline stores. \n",
    "\n",
    "This notebook provides an example for the APIs provided by SageMaker FeatureStore by walking through the process of training a House Price prediction model. The notebook demonstrates how the dataset's tables can be ingested into the FeatureStore, queried to create a training dataset, and quickly accessed during inference. \n",
    "\n",
    "\n",
    "### Terminology\n",
    "\n",
    "A **FeatureGroup** is the main resource that contains the metadata for all the data stored in SageMaker FeatureStore. A FeatureGroup contains a list of FeatureDefinitions. \n",
    "\n",
    "A **FeatureDefinition** consists of a name and one of the following data types: a integral, string or decimal.\n",
    "\n",
    "The FeatureGroup also contains an **OnlineStoreConfig** and an **OfflineStoreConfig** controlling where the data is stored. Enabling the online store allows quick access to the latest value for a Record via the GetRecord API. The offline store, a required configuration, allows storage of historical data in your S3 bucket. \n",
    "\n",
    "Once a FeatureGroup is created, data can be added as Records. \n",
    "\n",
    "**Records** can be thought of as a row in a table. Each record will have a unique **RecordIdentifier** along with values for all other FeatureDefinitions in the FeatureGroup. "
   ]
  },
  {
   "cell_type": "markdown",
   "id": "a87d8aa5-329f-4965-8c50-65e747c77fb8",
   "metadata": {},
   "source": [
    "## Setup SageMaker FeatureStore\n",
    "\n",
    "Let's start by setting up the SageMaker Python SDK and boto client. Note that this notebook requires a `boto3` version above `1.17.21`"
   ]
  },
  {
   "cell_type": "code",
   "execution_count": 2,
   "id": "9600be7b-bf0e-46aa-9b52-2c4ed60a99ab",
   "metadata": {
    "tags": []
   },
   "outputs": [
    {
     "name": "stdout",
     "output_type": "stream",
     "text": [
      "sagemaker.config INFO - Not applying SDK defaults from location: /etc/xdg/sagemaker/config.yaml\n",
      "sagemaker.config INFO - Not applying SDK defaults from location: /root/.config/sagemaker/config.yaml\n",
      "Requirement already satisfied: boto3>1.17.21 in /opt/conda/lib/python3.10/site-packages (1.34.84)\n",
      "Requirement already satisfied: botocore<1.35.0,>=1.34.84 in /opt/conda/lib/python3.10/site-packages (from boto3>1.17.21) (1.34.84)\n",
      "Requirement already satisfied: jmespath<2.0.0,>=0.7.1 in /opt/conda/lib/python3.10/site-packages (from boto3>1.17.21) (1.0.1)\n",
      "Requirement already satisfied: s3transfer<0.11.0,>=0.10.0 in /opt/conda/lib/python3.10/site-packages (from boto3>1.17.21) (0.10.1)\n",
      "Requirement already satisfied: python-dateutil<3.0.0,>=2.1 in /opt/conda/lib/python3.10/site-packages (from botocore<1.35.0,>=1.34.84->boto3>1.17.21) (2.9.0)\n",
      "Requirement already satisfied: urllib3!=2.2.0,<3,>=1.25.4 in /opt/conda/lib/python3.10/site-packages (from botocore<1.35.0,>=1.34.84->boto3>1.17.21) (2.2.1)\n",
      "Requirement already satisfied: six>=1.5 in /opt/conda/lib/python3.10/site-packages (from python-dateutil<3.0.0,>=2.1->botocore<1.35.0,>=1.34.84->boto3>1.17.21) (1.16.0)\n",
      "\u001b[33mWARNING: Running pip as the 'root' user can result in broken permissions and conflicting behaviour with the system package manager. It is recommended to use a virtual environment instead: https://pip.pypa.io/warnings/venv\u001b[0m\u001b[33m\n",
      "\u001b[0mNote: you may need to restart the kernel to use updated packages.\n"
     ]
    }
   ],
   "source": [
    "import boto3\n",
    "import sagemaker\n",
    "\n",
    "original_boto3_version = boto3.__version__\n",
    "%pip install 'boto3>1.17.21'"
   ]
  },
  {
   "cell_type": "code",
   "execution_count": 3,
   "id": "c424b0be-7b53-44f9-a000-c9120eb9396e",
   "metadata": {
    "tags": []
   },
   "outputs": [],
   "source": [
    "from sagemaker.session import Session\n",
    "\n",
    "region = boto3.Session().region_name\n",
    "\n",
    "boto_session = boto3.Session(region_name=region)\n",
    "\n",
    "# create a sagemaker client\n",
    "sagemaker_client = boto_session.client(service_name=\"sagemaker\", region_name=region)\n",
    "\n",
    "# create a feature store runtime \n",
    "featurestore_runtime = boto_session.client(\n",
    "    service_name=\"sagemaker-featurestore-runtime\", region_name=region\n",
    ")\n",
    "\n",
    "# create a feature store session \n",
    "feature_store_session = Session(\n",
    "    boto_session=boto_session,\n",
    "    sagemaker_client=sagemaker_client,\n",
    "    sagemaker_featurestore_runtime_client=featurestore_runtime,\n",
    ")"
   ]
  },
  {
   "cell_type": "markdown",
   "id": "a470c4ac-8660-4f09-b0cb-e7235b52e1b6",
   "metadata": {},
   "source": [
    "#### S3 Bucket Setup For The OfflineStore\n",
    "\n",
    "SageMaker FeatureStore writes the data in the OfflineStore of a FeatureGroup to a S3 bucket owned by you. To be able to write to your S3 bucket, SageMaker FeatureStore assumes an IAM role which has access to it. The role is also owned by you.\n",
    "Note that the same bucket can be re-used across FeatureGroups. Data in the bucket is partitioned by FeatureGroup."
   ]
  },
  {
   "cell_type": "markdown",
   "id": "74600463-239a-4f2b-bd6e-4185eb941b5e",
   "metadata": {},
   "source": [
    "Set the default s3 bucket name and it will be referenced throughout the notebook."
   ]
  },
  {
   "cell_type": "code",
   "execution_count": 4,
   "id": "a01bb3bc-3ca5-4560-98bb-b783dcf070c2",
   "metadata": {
    "tags": []
   },
   "outputs": [
    {
     "name": "stdout",
     "output_type": "stream",
     "text": [
      "sagemaker-us-east-1-904981812149\n"
     ]
    }
   ],
   "source": [
    "# You can modify the following to use a bucket of your choosing\n",
    "default_s3_bucket_name = feature_store_session.default_bucket()\n",
    "prefix = \"sagemaker-featurestore-demo\"\n",
    "\n",
    "print(default_s3_bucket_name)"
   ]
  },
  {
   "cell_type": "code",
   "execution_count": 5,
   "id": "f4dbfce7-11d6-487b-ba6f-28f6e3c62f2d",
   "metadata": {
    "tags": []
   },
   "outputs": [
    {
     "name": "stdout",
     "output_type": "stream",
     "text": [
      "arn:aws:iam::904981812149:role/LabRole\n"
     ]
    }
   ],
   "source": [
    "from sagemaker import get_execution_role\n",
    "\n",
    "# You can modify the following to use a role of your choosing. See the documentation for how to create this.\n",
    "role = get_execution_role()\n",
    "print(role)"
   ]
  },
  {
   "cell_type": "markdown",
   "id": "6bccae11-c8ea-49a6-b336-1e2425e3ff3a",
   "metadata": {
    "tags": []
   },
   "source": [
    "# Reading data"
   ]
  },
  {
   "cell_type": "code",
   "execution_count": 6,
   "id": "333aeab3-ac99-45e4-b441-7766f9fb6ec9",
   "metadata": {
    "tags": []
   },
   "outputs": [],
   "source": [
    "import pandas as pd\n",
    "housing_data = pd.read_csv(\"data/housing.csv\")\n",
    "google_maps_data = pd.read_csv(\"data/housing_gmaps_data_raw.csv\")"
   ]
  },
  {
   "cell_type": "code",
   "execution_count": 7,
   "id": "ddc92fcb-0a92-492b-82f4-fc3c9b158ecb",
   "metadata": {
    "tags": []
   },
   "outputs": [
    {
     "data": {
      "text/html": [
       "<div>\n",
       "<style scoped>\n",
       "    .dataframe tbody tr th:only-of-type {\n",
       "        vertical-align: middle;\n",
       "    }\n",
       "\n",
       "    .dataframe tbody tr th {\n",
       "        vertical-align: top;\n",
       "    }\n",
       "\n",
       "    .dataframe thead th {\n",
       "        text-align: right;\n",
       "    }\n",
       "</style>\n",
       "<table border=\"1\" class=\"dataframe\">\n",
       "  <thead>\n",
       "    <tr style=\"text-align: right;\">\n",
       "      <th></th>\n",
       "      <th>longitude</th>\n",
       "      <th>latitude</th>\n",
       "      <th>housing_median_age</th>\n",
       "      <th>total_rooms</th>\n",
       "      <th>total_bedrooms</th>\n",
       "      <th>population</th>\n",
       "      <th>households</th>\n",
       "      <th>median_income</th>\n",
       "      <th>median_house_value</th>\n",
       "      <th>ocean_proximity</th>\n",
       "    </tr>\n",
       "  </thead>\n",
       "  <tbody>\n",
       "    <tr>\n",
       "      <th>0</th>\n",
       "      <td>-122.23</td>\n",
       "      <td>37.88</td>\n",
       "      <td>41.0</td>\n",
       "      <td>880.0</td>\n",
       "      <td>129.0</td>\n",
       "      <td>322.0</td>\n",
       "      <td>126.0</td>\n",
       "      <td>8.3252</td>\n",
       "      <td>452600.0</td>\n",
       "      <td>NEAR BAY</td>\n",
       "    </tr>\n",
       "    <tr>\n",
       "      <th>1</th>\n",
       "      <td>-122.22</td>\n",
       "      <td>37.86</td>\n",
       "      <td>21.0</td>\n",
       "      <td>7099.0</td>\n",
       "      <td>1106.0</td>\n",
       "      <td>2401.0</td>\n",
       "      <td>1138.0</td>\n",
       "      <td>8.3014</td>\n",
       "      <td>358500.0</td>\n",
       "      <td>NEAR BAY</td>\n",
       "    </tr>\n",
       "    <tr>\n",
       "      <th>2</th>\n",
       "      <td>-122.24</td>\n",
       "      <td>37.85</td>\n",
       "      <td>52.0</td>\n",
       "      <td>1467.0</td>\n",
       "      <td>190.0</td>\n",
       "      <td>496.0</td>\n",
       "      <td>177.0</td>\n",
       "      <td>7.2574</td>\n",
       "      <td>352100.0</td>\n",
       "      <td>NEAR BAY</td>\n",
       "    </tr>\n",
       "    <tr>\n",
       "      <th>3</th>\n",
       "      <td>-122.25</td>\n",
       "      <td>37.85</td>\n",
       "      <td>52.0</td>\n",
       "      <td>1274.0</td>\n",
       "      <td>235.0</td>\n",
       "      <td>558.0</td>\n",
       "      <td>219.0</td>\n",
       "      <td>5.6431</td>\n",
       "      <td>341300.0</td>\n",
       "      <td>NEAR BAY</td>\n",
       "    </tr>\n",
       "    <tr>\n",
       "      <th>4</th>\n",
       "      <td>-122.25</td>\n",
       "      <td>37.85</td>\n",
       "      <td>52.0</td>\n",
       "      <td>1627.0</td>\n",
       "      <td>280.0</td>\n",
       "      <td>565.0</td>\n",
       "      <td>259.0</td>\n",
       "      <td>3.8462</td>\n",
       "      <td>342200.0</td>\n",
       "      <td>NEAR BAY</td>\n",
       "    </tr>\n",
       "  </tbody>\n",
       "</table>\n",
       "</div>"
      ],
      "text/plain": [
       "   longitude  latitude  housing_median_age  total_rooms  total_bedrooms  \\\n",
       "0    -122.23     37.88                41.0        880.0           129.0   \n",
       "1    -122.22     37.86                21.0       7099.0          1106.0   \n",
       "2    -122.24     37.85                52.0       1467.0           190.0   \n",
       "3    -122.25     37.85                52.0       1274.0           235.0   \n",
       "4    -122.25     37.85                52.0       1627.0           280.0   \n",
       "\n",
       "   population  households  median_income  median_house_value ocean_proximity  \n",
       "0       322.0       126.0         8.3252            452600.0        NEAR BAY  \n",
       "1      2401.0      1138.0         8.3014            358500.0        NEAR BAY  \n",
       "2       496.0       177.0         7.2574            352100.0        NEAR BAY  \n",
       "3       558.0       219.0         5.6431            341300.0        NEAR BAY  \n",
       "4       565.0       259.0         3.8462            342200.0        NEAR BAY  "
      ]
     },
     "execution_count": 7,
     "metadata": {},
     "output_type": "execute_result"
    }
   ],
   "source": [
    "# view the top 5 records of housing data\n",
    "housing_data.head()"
   ]
  },
  {
   "cell_type": "code",
   "execution_count": 8,
   "id": "3f78f8d1-6221-458d-8c53-06b8ab2256aa",
   "metadata": {
    "tags": []
   },
   "outputs": [
    {
     "data": {
      "text/html": [
       "<div>\n",
       "<style scoped>\n",
       "    .dataframe tbody tr th:only-of-type {\n",
       "        vertical-align: middle;\n",
       "    }\n",
       "\n",
       "    .dataframe tbody tr th {\n",
       "        vertical-align: top;\n",
       "    }\n",
       "\n",
       "    .dataframe thead th {\n",
       "        text-align: right;\n",
       "    }\n",
       "</style>\n",
       "<table border=\"1\" class=\"dataframe\">\n",
       "  <thead>\n",
       "    <tr style=\"text-align: right;\">\n",
       "      <th></th>\n",
       "      <th>street_number</th>\n",
       "      <th>route</th>\n",
       "      <th>locality-political</th>\n",
       "      <th>administrative_area_level_2-political</th>\n",
       "      <th>administrative_area_level_1-political</th>\n",
       "      <th>country-political</th>\n",
       "      <th>postal_code</th>\n",
       "      <th>address</th>\n",
       "      <th>longitude</th>\n",
       "      <th>latitude</th>\n",
       "      <th>...</th>\n",
       "      <th>establishment-natural_feature</th>\n",
       "      <th>airport-establishment-point_of_interest</th>\n",
       "      <th>political-sublocality-sublocality_level_1</th>\n",
       "      <th>administrative_area_level_3-political</th>\n",
       "      <th>post_box</th>\n",
       "      <th>establishment-light_rail_station-point_of_interest-transit_station</th>\n",
       "      <th>establishment-point_of_interest</th>\n",
       "      <th>aquarium-establishment-park-point_of_interest-tourist_attraction-zoo</th>\n",
       "      <th>campground-establishment-lodging-park-point_of_interest-rv_park-tourist_attraction</th>\n",
       "      <th>cemetery-establishment-park-point_of_interest</th>\n",
       "    </tr>\n",
       "  </thead>\n",
       "  <tbody>\n",
       "    <tr>\n",
       "      <th>0</th>\n",
       "      <td>3130</td>\n",
       "      <td>Grizzly Peak Boulevard</td>\n",
       "      <td>Berkeley</td>\n",
       "      <td>Alameda County</td>\n",
       "      <td>California</td>\n",
       "      <td>United States</td>\n",
       "      <td>94705.0</td>\n",
       "      <td>3130 Grizzly Peak Blvd, Berkeley, CA 94705, USA</td>\n",
       "      <td>-122.23</td>\n",
       "      <td>37.88</td>\n",
       "      <td>...</td>\n",
       "      <td>NaN</td>\n",
       "      <td>NaN</td>\n",
       "      <td>NaN</td>\n",
       "      <td>NaN</td>\n",
       "      <td>NaN</td>\n",
       "      <td>NaN</td>\n",
       "      <td>NaN</td>\n",
       "      <td>NaN</td>\n",
       "      <td>NaN</td>\n",
       "      <td>NaN</td>\n",
       "    </tr>\n",
       "    <tr>\n",
       "      <th>1</th>\n",
       "      <td>2005</td>\n",
       "      <td>Tunnel Road</td>\n",
       "      <td>Oakland</td>\n",
       "      <td>Alameda County</td>\n",
       "      <td>California</td>\n",
       "      <td>United States</td>\n",
       "      <td>94611.0</td>\n",
       "      <td>2005 Tunnel Rd, Oakland, CA 94611, USA</td>\n",
       "      <td>-122.22</td>\n",
       "      <td>37.86</td>\n",
       "      <td>...</td>\n",
       "      <td>NaN</td>\n",
       "      <td>NaN</td>\n",
       "      <td>NaN</td>\n",
       "      <td>NaN</td>\n",
       "      <td>NaN</td>\n",
       "      <td>NaN</td>\n",
       "      <td>NaN</td>\n",
       "      <td>NaN</td>\n",
       "      <td>NaN</td>\n",
       "      <td>NaN</td>\n",
       "    </tr>\n",
       "    <tr>\n",
       "      <th>2</th>\n",
       "      <td>6886</td>\n",
       "      <td>Chabot Road</td>\n",
       "      <td>Oakland</td>\n",
       "      <td>Alameda County</td>\n",
       "      <td>California</td>\n",
       "      <td>United States</td>\n",
       "      <td>94618.0</td>\n",
       "      <td>6886 Chabot Rd, Oakland, CA 94618, USA</td>\n",
       "      <td>-122.24</td>\n",
       "      <td>37.85</td>\n",
       "      <td>...</td>\n",
       "      <td>NaN</td>\n",
       "      <td>NaN</td>\n",
       "      <td>NaN</td>\n",
       "      <td>NaN</td>\n",
       "      <td>NaN</td>\n",
       "      <td>NaN</td>\n",
       "      <td>NaN</td>\n",
       "      <td>NaN</td>\n",
       "      <td>NaN</td>\n",
       "      <td>NaN</td>\n",
       "    </tr>\n",
       "    <tr>\n",
       "      <th>3</th>\n",
       "      <td>6365</td>\n",
       "      <td>Florio Street</td>\n",
       "      <td>Oakland</td>\n",
       "      <td>Alameda County</td>\n",
       "      <td>California</td>\n",
       "      <td>United States</td>\n",
       "      <td>94618.0</td>\n",
       "      <td>6365 Florio St, Oakland, CA 94618, USA</td>\n",
       "      <td>-122.25</td>\n",
       "      <td>37.85</td>\n",
       "      <td>...</td>\n",
       "      <td>NaN</td>\n",
       "      <td>NaN</td>\n",
       "      <td>NaN</td>\n",
       "      <td>NaN</td>\n",
       "      <td>NaN</td>\n",
       "      <td>NaN</td>\n",
       "      <td>NaN</td>\n",
       "      <td>NaN</td>\n",
       "      <td>NaN</td>\n",
       "      <td>NaN</td>\n",
       "    </tr>\n",
       "    <tr>\n",
       "      <th>4</th>\n",
       "      <td>5407</td>\n",
       "      <td>Bryant Avenue</td>\n",
       "      <td>Oakland</td>\n",
       "      <td>Alameda County</td>\n",
       "      <td>California</td>\n",
       "      <td>United States</td>\n",
       "      <td>94618.0</td>\n",
       "      <td>5407 Bryant Ave, Oakland, CA 94618, USA</td>\n",
       "      <td>-122.25</td>\n",
       "      <td>37.84</td>\n",
       "      <td>...</td>\n",
       "      <td>NaN</td>\n",
       "      <td>NaN</td>\n",
       "      <td>NaN</td>\n",
       "      <td>NaN</td>\n",
       "      <td>NaN</td>\n",
       "      <td>NaN</td>\n",
       "      <td>NaN</td>\n",
       "      <td>NaN</td>\n",
       "      <td>NaN</td>\n",
       "      <td>NaN</td>\n",
       "    </tr>\n",
       "  </tbody>\n",
       "</table>\n",
       "<p>5 rows × 30 columns</p>\n",
       "</div>"
      ],
      "text/plain": [
       "  street_number                   route locality-political  \\\n",
       "0          3130  Grizzly Peak Boulevard           Berkeley   \n",
       "1          2005             Tunnel Road            Oakland   \n",
       "2          6886             Chabot Road            Oakland   \n",
       "3          6365           Florio Street            Oakland   \n",
       "4          5407           Bryant Avenue            Oakland   \n",
       "\n",
       "  administrative_area_level_2-political administrative_area_level_1-political  \\\n",
       "0                        Alameda County                            California   \n",
       "1                        Alameda County                            California   \n",
       "2                        Alameda County                            California   \n",
       "3                        Alameda County                            California   \n",
       "4                        Alameda County                            California   \n",
       "\n",
       "  country-political  postal_code  \\\n",
       "0     United States      94705.0   \n",
       "1     United States      94611.0   \n",
       "2     United States      94618.0   \n",
       "3     United States      94618.0   \n",
       "4     United States      94618.0   \n",
       "\n",
       "                                           address  longitude  latitude  ...  \\\n",
       "0  3130 Grizzly Peak Blvd, Berkeley, CA 94705, USA    -122.23     37.88  ...   \n",
       "1           2005 Tunnel Rd, Oakland, CA 94611, USA    -122.22     37.86  ...   \n",
       "2           6886 Chabot Rd, Oakland, CA 94618, USA    -122.24     37.85  ...   \n",
       "3           6365 Florio St, Oakland, CA 94618, USA    -122.25     37.85  ...   \n",
       "4          5407 Bryant Ave, Oakland, CA 94618, USA    -122.25     37.84  ...   \n",
       "\n",
       "  establishment-natural_feature  airport-establishment-point_of_interest  \\\n",
       "0                           NaN                                      NaN   \n",
       "1                           NaN                                      NaN   \n",
       "2                           NaN                                      NaN   \n",
       "3                           NaN                                      NaN   \n",
       "4                           NaN                                      NaN   \n",
       "\n",
       "  political-sublocality-sublocality_level_1  \\\n",
       "0                                       NaN   \n",
       "1                                       NaN   \n",
       "2                                       NaN   \n",
       "3                                       NaN   \n",
       "4                                       NaN   \n",
       "\n",
       "  administrative_area_level_3-political post_box  \\\n",
       "0                                   NaN      NaN   \n",
       "1                                   NaN      NaN   \n",
       "2                                   NaN      NaN   \n",
       "3                                   NaN      NaN   \n",
       "4                                   NaN      NaN   \n",
       "\n",
       "  establishment-light_rail_station-point_of_interest-transit_station  \\\n",
       "0                                                NaN                   \n",
       "1                                                NaN                   \n",
       "2                                                NaN                   \n",
       "3                                                NaN                   \n",
       "4                                                NaN                   \n",
       "\n",
       "  establishment-point_of_interest  \\\n",
       "0                             NaN   \n",
       "1                             NaN   \n",
       "2                             NaN   \n",
       "3                             NaN   \n",
       "4                             NaN   \n",
       "\n",
       "  aquarium-establishment-park-point_of_interest-tourist_attraction-zoo  \\\n",
       "0                                                NaN                     \n",
       "1                                                NaN                     \n",
       "2                                                NaN                     \n",
       "3                                                NaN                     \n",
       "4                                                NaN                     \n",
       "\n",
       "  campground-establishment-lodging-park-point_of_interest-rv_park-tourist_attraction  \\\n",
       "0                                                NaN                                   \n",
       "1                                                NaN                                   \n",
       "2                                                NaN                                   \n",
       "3                                                NaN                                   \n",
       "4                                                NaN                                   \n",
       "\n",
       "  cemetery-establishment-park-point_of_interest  \n",
       "0                                           NaN  \n",
       "1                                           NaN  \n",
       "2                                           NaN  \n",
       "3                                           NaN  \n",
       "4                                           NaN  \n",
       "\n",
       "[5 rows x 30 columns]"
      ]
     },
     "execution_count": 8,
     "metadata": {},
     "output_type": "execute_result"
    }
   ],
   "source": [
    "# view the top 5 records of google maps data\n",
    "google_maps_data.head()"
   ]
  },
  {
   "cell_type": "code",
   "execution_count": 9,
   "id": "d0e0de32-24b2-4488-b9c5-35ae05800734",
   "metadata": {
    "tags": []
   },
   "outputs": [
    {
     "data": {
      "text/plain": [
       "Index(['longitude', 'latitude', 'housing_median_age', 'total_rooms',\n",
       "       'total_bedrooms', 'population', 'households', 'median_income',\n",
       "       'median_house_value', 'ocean_proximity'],\n",
       "      dtype='object')"
      ]
     },
     "execution_count": 9,
     "metadata": {},
     "output_type": "execute_result"
    }
   ],
   "source": [
    "# print out all the columns of housing data\n",
    "housing_data.columns"
   ]
  },
  {
   "cell_type": "code",
   "execution_count": 10,
   "id": "d1f4efa1-45be-422a-83b1-dc944ec29dd0",
   "metadata": {
    "tags": []
   },
   "outputs": [
    {
     "data": {
      "text/plain": [
       "Index(['street_number', 'route', 'locality-political',\n",
       "       'administrative_area_level_2-political',\n",
       "       'administrative_area_level_1-political', 'country-political',\n",
       "       'postal_code', 'address', 'longitude', 'latitude',\n",
       "       'neighborhood-political', 'postal_code_suffix',\n",
       "       'establishment-point_of_interest-transit_station',\n",
       "       'establishment-park-point_of_interest', 'premise',\n",
       "       'establishment-point_of_interest-subway_station-transit_station',\n",
       "       'airport-establishment-finance-moving_company-point_of_interest-storage',\n",
       "       'subpremise',\n",
       "       'bus_station-establishment-point_of_interest-transit_station',\n",
       "       'establishment-park-point_of_interest-tourist_attraction',\n",
       "       'establishment-natural_feature',\n",
       "       'airport-establishment-point_of_interest',\n",
       "       'political-sublocality-sublocality_level_1',\n",
       "       'administrative_area_level_3-political', 'post_box',\n",
       "       'establishment-light_rail_station-point_of_interest-transit_station',\n",
       "       'establishment-point_of_interest',\n",
       "       'aquarium-establishment-park-point_of_interest-tourist_attraction-zoo',\n",
       "       'campground-establishment-lodging-park-point_of_interest-rv_park-tourist_attraction',\n",
       "       'cemetery-establishment-park-point_of_interest'],\n",
       "      dtype='object')"
      ]
     },
     "execution_count": 10,
     "metadata": {},
     "output_type": "execute_result"
    }
   ],
   "source": [
    "# print out all the columns of goolge maps data\n",
    "google_maps_data.columns"
   ]
  },
  {
   "cell_type": "code",
   "execution_count": 11,
   "id": "dd79a73b-a21f-4280-a7ba-a173b3d3cd60",
   "metadata": {
    "tags": []
   },
   "outputs": [],
   "source": [
    "merged_data = pd.merge(housing_data, google_maps_data, on=['latitude', 'longitude'], how='inner')\n"
   ]
  },
  {
   "cell_type": "code",
   "execution_count": 12,
   "id": "aacf40de-b4e6-4bc5-ae0c-28f5ad1a926b",
   "metadata": {
    "tags": []
   },
   "outputs": [
    {
     "data": {
      "text/html": [
       "<div>\n",
       "<style scoped>\n",
       "    .dataframe tbody tr th:only-of-type {\n",
       "        vertical-align: middle;\n",
       "    }\n",
       "\n",
       "    .dataframe tbody tr th {\n",
       "        vertical-align: top;\n",
       "    }\n",
       "\n",
       "    .dataframe thead th {\n",
       "        text-align: right;\n",
       "    }\n",
       "</style>\n",
       "<table border=\"1\" class=\"dataframe\">\n",
       "  <thead>\n",
       "    <tr style=\"text-align: right;\">\n",
       "      <th></th>\n",
       "      <th>longitude</th>\n",
       "      <th>latitude</th>\n",
       "      <th>housing_median_age</th>\n",
       "      <th>total_rooms</th>\n",
       "      <th>total_bedrooms</th>\n",
       "      <th>population</th>\n",
       "      <th>households</th>\n",
       "      <th>median_income</th>\n",
       "      <th>median_house_value</th>\n",
       "      <th>ocean_proximity</th>\n",
       "      <th>...</th>\n",
       "      <th>establishment-natural_feature</th>\n",
       "      <th>airport-establishment-point_of_interest</th>\n",
       "      <th>political-sublocality-sublocality_level_1</th>\n",
       "      <th>administrative_area_level_3-political</th>\n",
       "      <th>post_box</th>\n",
       "      <th>establishment-light_rail_station-point_of_interest-transit_station</th>\n",
       "      <th>establishment-point_of_interest</th>\n",
       "      <th>aquarium-establishment-park-point_of_interest-tourist_attraction-zoo</th>\n",
       "      <th>campground-establishment-lodging-park-point_of_interest-rv_park-tourist_attraction</th>\n",
       "      <th>cemetery-establishment-park-point_of_interest</th>\n",
       "    </tr>\n",
       "  </thead>\n",
       "  <tbody>\n",
       "    <tr>\n",
       "      <th>0</th>\n",
       "      <td>-122.23</td>\n",
       "      <td>37.88</td>\n",
       "      <td>41.0</td>\n",
       "      <td>880.0</td>\n",
       "      <td>129.0</td>\n",
       "      <td>322.0</td>\n",
       "      <td>126.0</td>\n",
       "      <td>8.3252</td>\n",
       "      <td>452600.0</td>\n",
       "      <td>NEAR BAY</td>\n",
       "      <td>...</td>\n",
       "      <td>NaN</td>\n",
       "      <td>NaN</td>\n",
       "      <td>NaN</td>\n",
       "      <td>NaN</td>\n",
       "      <td>NaN</td>\n",
       "      <td>NaN</td>\n",
       "      <td>NaN</td>\n",
       "      <td>NaN</td>\n",
       "      <td>NaN</td>\n",
       "      <td>NaN</td>\n",
       "    </tr>\n",
       "    <tr>\n",
       "      <th>1</th>\n",
       "      <td>-122.22</td>\n",
       "      <td>37.86</td>\n",
       "      <td>21.0</td>\n",
       "      <td>7099.0</td>\n",
       "      <td>1106.0</td>\n",
       "      <td>2401.0</td>\n",
       "      <td>1138.0</td>\n",
       "      <td>8.3014</td>\n",
       "      <td>358500.0</td>\n",
       "      <td>NEAR BAY</td>\n",
       "      <td>...</td>\n",
       "      <td>NaN</td>\n",
       "      <td>NaN</td>\n",
       "      <td>NaN</td>\n",
       "      <td>NaN</td>\n",
       "      <td>NaN</td>\n",
       "      <td>NaN</td>\n",
       "      <td>NaN</td>\n",
       "      <td>NaN</td>\n",
       "      <td>NaN</td>\n",
       "      <td>NaN</td>\n",
       "    </tr>\n",
       "    <tr>\n",
       "      <th>2</th>\n",
       "      <td>-122.24</td>\n",
       "      <td>37.85</td>\n",
       "      <td>52.0</td>\n",
       "      <td>1467.0</td>\n",
       "      <td>190.0</td>\n",
       "      <td>496.0</td>\n",
       "      <td>177.0</td>\n",
       "      <td>7.2574</td>\n",
       "      <td>352100.0</td>\n",
       "      <td>NEAR BAY</td>\n",
       "      <td>...</td>\n",
       "      <td>NaN</td>\n",
       "      <td>NaN</td>\n",
       "      <td>NaN</td>\n",
       "      <td>NaN</td>\n",
       "      <td>NaN</td>\n",
       "      <td>NaN</td>\n",
       "      <td>NaN</td>\n",
       "      <td>NaN</td>\n",
       "      <td>NaN</td>\n",
       "      <td>NaN</td>\n",
       "    </tr>\n",
       "    <tr>\n",
       "      <th>3</th>\n",
       "      <td>-122.25</td>\n",
       "      <td>37.85</td>\n",
       "      <td>52.0</td>\n",
       "      <td>1274.0</td>\n",
       "      <td>235.0</td>\n",
       "      <td>558.0</td>\n",
       "      <td>219.0</td>\n",
       "      <td>5.6431</td>\n",
       "      <td>341300.0</td>\n",
       "      <td>NEAR BAY</td>\n",
       "      <td>...</td>\n",
       "      <td>NaN</td>\n",
       "      <td>NaN</td>\n",
       "      <td>NaN</td>\n",
       "      <td>NaN</td>\n",
       "      <td>NaN</td>\n",
       "      <td>NaN</td>\n",
       "      <td>NaN</td>\n",
       "      <td>NaN</td>\n",
       "      <td>NaN</td>\n",
       "      <td>NaN</td>\n",
       "    </tr>\n",
       "    <tr>\n",
       "      <th>4</th>\n",
       "      <td>-122.25</td>\n",
       "      <td>37.85</td>\n",
       "      <td>52.0</td>\n",
       "      <td>1627.0</td>\n",
       "      <td>280.0</td>\n",
       "      <td>565.0</td>\n",
       "      <td>259.0</td>\n",
       "      <td>3.8462</td>\n",
       "      <td>342200.0</td>\n",
       "      <td>NEAR BAY</td>\n",
       "      <td>...</td>\n",
       "      <td>NaN</td>\n",
       "      <td>NaN</td>\n",
       "      <td>NaN</td>\n",
       "      <td>NaN</td>\n",
       "      <td>NaN</td>\n",
       "      <td>NaN</td>\n",
       "      <td>NaN</td>\n",
       "      <td>NaN</td>\n",
       "      <td>NaN</td>\n",
       "      <td>NaN</td>\n",
       "    </tr>\n",
       "  </tbody>\n",
       "</table>\n",
       "<p>5 rows × 38 columns</p>\n",
       "</div>"
      ],
      "text/plain": [
       "   longitude  latitude  housing_median_age  total_rooms  total_bedrooms  \\\n",
       "0    -122.23     37.88                41.0        880.0           129.0   \n",
       "1    -122.22     37.86                21.0       7099.0          1106.0   \n",
       "2    -122.24     37.85                52.0       1467.0           190.0   \n",
       "3    -122.25     37.85                52.0       1274.0           235.0   \n",
       "4    -122.25     37.85                52.0       1627.0           280.0   \n",
       "\n",
       "   population  households  median_income  median_house_value ocean_proximity  \\\n",
       "0       322.0       126.0         8.3252            452600.0        NEAR BAY   \n",
       "1      2401.0      1138.0         8.3014            358500.0        NEAR BAY   \n",
       "2       496.0       177.0         7.2574            352100.0        NEAR BAY   \n",
       "3       558.0       219.0         5.6431            341300.0        NEAR BAY   \n",
       "4       565.0       259.0         3.8462            342200.0        NEAR BAY   \n",
       "\n",
       "   ... establishment-natural_feature airport-establishment-point_of_interest  \\\n",
       "0  ...                           NaN                                     NaN   \n",
       "1  ...                           NaN                                     NaN   \n",
       "2  ...                           NaN                                     NaN   \n",
       "3  ...                           NaN                                     NaN   \n",
       "4  ...                           NaN                                     NaN   \n",
       "\n",
       "  political-sublocality-sublocality_level_1  \\\n",
       "0                                       NaN   \n",
       "1                                       NaN   \n",
       "2                                       NaN   \n",
       "3                                       NaN   \n",
       "4                                       NaN   \n",
       "\n",
       "  administrative_area_level_3-political post_box  \\\n",
       "0                                   NaN      NaN   \n",
       "1                                   NaN      NaN   \n",
       "2                                   NaN      NaN   \n",
       "3                                   NaN      NaN   \n",
       "4                                   NaN      NaN   \n",
       "\n",
       "  establishment-light_rail_station-point_of_interest-transit_station  \\\n",
       "0                                                NaN                   \n",
       "1                                                NaN                   \n",
       "2                                                NaN                   \n",
       "3                                                NaN                   \n",
       "4                                                NaN                   \n",
       "\n",
       "   establishment-point_of_interest  \\\n",
       "0                              NaN   \n",
       "1                              NaN   \n",
       "2                              NaN   \n",
       "3                              NaN   \n",
       "4                              NaN   \n",
       "\n",
       "  aquarium-establishment-park-point_of_interest-tourist_attraction-zoo  \\\n",
       "0                                                NaN                     \n",
       "1                                                NaN                     \n",
       "2                                                NaN                     \n",
       "3                                                NaN                     \n",
       "4                                                NaN                     \n",
       "\n",
       "  campground-establishment-lodging-park-point_of_interest-rv_park-tourist_attraction  \\\n",
       "0                                                NaN                                   \n",
       "1                                                NaN                                   \n",
       "2                                                NaN                                   \n",
       "3                                                NaN                                   \n",
       "4                                                NaN                                   \n",
       "\n",
       "   cemetery-establishment-park-point_of_interest  \n",
       "0                                            NaN  \n",
       "1                                            NaN  \n",
       "2                                            NaN  \n",
       "3                                            NaN  \n",
       "4                                            NaN  \n",
       "\n",
       "[5 rows x 38 columns]"
      ]
     },
     "execution_count": 12,
     "metadata": {},
     "output_type": "execute_result"
    }
   ],
   "source": [
    "# print the top 5 records of merged table\n",
    "merged_data.head()"
   ]
  },
  {
   "cell_type": "code",
   "execution_count": 13,
   "id": "565361a3-7404-45b7-9992-d78e48b9c7e5",
   "metadata": {
    "tags": []
   },
   "outputs": [
    {
     "data": {
      "text/html": [
       "<div>\n",
       "<style scoped>\n",
       "    .dataframe tbody tr th:only-of-type {\n",
       "        vertical-align: middle;\n",
       "    }\n",
       "\n",
       "    .dataframe tbody tr th {\n",
       "        vertical-align: top;\n",
       "    }\n",
       "\n",
       "    .dataframe thead th {\n",
       "        text-align: right;\n",
       "    }\n",
       "</style>\n",
       "<table border=\"1\" class=\"dataframe\">\n",
       "  <thead>\n",
       "    <tr style=\"text-align: right;\">\n",
       "      <th></th>\n",
       "      <th>longitude</th>\n",
       "      <th>latitude</th>\n",
       "      <th>housing_median_age</th>\n",
       "      <th>total_rooms</th>\n",
       "      <th>total_bedrooms</th>\n",
       "      <th>population</th>\n",
       "      <th>households</th>\n",
       "      <th>median_income</th>\n",
       "      <th>median_house_value</th>\n",
       "      <th>postal_code</th>\n",
       "      <th>postal_code_suffix</th>\n",
       "    </tr>\n",
       "  </thead>\n",
       "  <tbody>\n",
       "    <tr>\n",
       "      <th>count</th>\n",
       "      <td>20640.000000</td>\n",
       "      <td>20640.000000</td>\n",
       "      <td>20640.000000</td>\n",
       "      <td>20640.000000</td>\n",
       "      <td>20433.000000</td>\n",
       "      <td>20640.000000</td>\n",
       "      <td>20640.000000</td>\n",
       "      <td>20640.000000</td>\n",
       "      <td>20640.000000</td>\n",
       "      <td>20454.000000</td>\n",
       "      <td>14095.000000</td>\n",
       "    </tr>\n",
       "    <tr>\n",
       "      <th>mean</th>\n",
       "      <td>-119.569704</td>\n",
       "      <td>35.631861</td>\n",
       "      <td>28.639486</td>\n",
       "      <td>2635.763081</td>\n",
       "      <td>537.870553</td>\n",
       "      <td>1425.476744</td>\n",
       "      <td>499.539680</td>\n",
       "      <td>3.870671</td>\n",
       "      <td>206855.816909</td>\n",
       "      <td>92996.901926</td>\n",
       "      <td>3840.225470</td>\n",
       "    </tr>\n",
       "    <tr>\n",
       "      <th>std</th>\n",
       "      <td>2.003532</td>\n",
       "      <td>2.135952</td>\n",
       "      <td>12.585558</td>\n",
       "      <td>2181.615252</td>\n",
       "      <td>421.385070</td>\n",
       "      <td>1132.462122</td>\n",
       "      <td>382.329753</td>\n",
       "      <td>1.899822</td>\n",
       "      <td>115395.615874</td>\n",
       "      <td>1858.067396</td>\n",
       "      <td>2174.426227</td>\n",
       "    </tr>\n",
       "    <tr>\n",
       "      <th>min</th>\n",
       "      <td>-124.350000</td>\n",
       "      <td>32.540000</td>\n",
       "      <td>1.000000</td>\n",
       "      <td>2.000000</td>\n",
       "      <td>1.000000</td>\n",
       "      <td>3.000000</td>\n",
       "      <td>1.000000</td>\n",
       "      <td>0.499900</td>\n",
       "      <td>14999.000000</td>\n",
       "      <td>85344.000000</td>\n",
       "      <td>110.000000</td>\n",
       "    </tr>\n",
       "    <tr>\n",
       "      <th>25%</th>\n",
       "      <td>-121.800000</td>\n",
       "      <td>33.930000</td>\n",
       "      <td>18.000000</td>\n",
       "      <td>1447.750000</td>\n",
       "      <td>296.000000</td>\n",
       "      <td>787.000000</td>\n",
       "      <td>280.000000</td>\n",
       "      <td>2.563400</td>\n",
       "      <td>119600.000000</td>\n",
       "      <td>91505.250000</td>\n",
       "      <td>2214.000000</td>\n",
       "    </tr>\n",
       "    <tr>\n",
       "      <th>50%</th>\n",
       "      <td>-118.490000</td>\n",
       "      <td>34.260000</td>\n",
       "      <td>29.000000</td>\n",
       "      <td>2127.000000</td>\n",
       "      <td>435.000000</td>\n",
       "      <td>1166.000000</td>\n",
       "      <td>409.000000</td>\n",
       "      <td>3.534800</td>\n",
       "      <td>179700.000000</td>\n",
       "      <td>92840.000000</td>\n",
       "      <td>3340.000000</td>\n",
       "    </tr>\n",
       "    <tr>\n",
       "      <th>75%</th>\n",
       "      <td>-118.010000</td>\n",
       "      <td>37.710000</td>\n",
       "      <td>37.000000</td>\n",
       "      <td>3148.000000</td>\n",
       "      <td>647.000000</td>\n",
       "      <td>1725.000000</td>\n",
       "      <td>605.000000</td>\n",
       "      <td>4.743250</td>\n",
       "      <td>264725.000000</td>\n",
       "      <td>94601.000000</td>\n",
       "      <td>4931.000000</td>\n",
       "    </tr>\n",
       "    <tr>\n",
       "      <th>max</th>\n",
       "      <td>-114.310000</td>\n",
       "      <td>41.950000</td>\n",
       "      <td>52.000000</td>\n",
       "      <td>39320.000000</td>\n",
       "      <td>6445.000000</td>\n",
       "      <td>35682.000000</td>\n",
       "      <td>6082.000000</td>\n",
       "      <td>15.000100</td>\n",
       "      <td>500001.000000</td>\n",
       "      <td>96161.000000</td>\n",
       "      <td>9859.000000</td>\n",
       "    </tr>\n",
       "  </tbody>\n",
       "</table>\n",
       "</div>"
      ],
      "text/plain": [
       "          longitude      latitude  housing_median_age   total_rooms  \\\n",
       "count  20640.000000  20640.000000        20640.000000  20640.000000   \n",
       "mean    -119.569704     35.631861           28.639486   2635.763081   \n",
       "std        2.003532      2.135952           12.585558   2181.615252   \n",
       "min     -124.350000     32.540000            1.000000      2.000000   \n",
       "25%     -121.800000     33.930000           18.000000   1447.750000   \n",
       "50%     -118.490000     34.260000           29.000000   2127.000000   \n",
       "75%     -118.010000     37.710000           37.000000   3148.000000   \n",
       "max     -114.310000     41.950000           52.000000  39320.000000   \n",
       "\n",
       "       total_bedrooms    population    households  median_income  \\\n",
       "count    20433.000000  20640.000000  20640.000000   20640.000000   \n",
       "mean       537.870553   1425.476744    499.539680       3.870671   \n",
       "std        421.385070   1132.462122    382.329753       1.899822   \n",
       "min          1.000000      3.000000      1.000000       0.499900   \n",
       "25%        296.000000    787.000000    280.000000       2.563400   \n",
       "50%        435.000000   1166.000000    409.000000       3.534800   \n",
       "75%        647.000000   1725.000000    605.000000       4.743250   \n",
       "max       6445.000000  35682.000000   6082.000000      15.000100   \n",
       "\n",
       "       median_house_value   postal_code  postal_code_suffix  \n",
       "count        20640.000000  20454.000000        14095.000000  \n",
       "mean        206855.816909  92996.901926         3840.225470  \n",
       "std         115395.615874   1858.067396         2174.426227  \n",
       "min          14999.000000  85344.000000          110.000000  \n",
       "25%         119600.000000  91505.250000         2214.000000  \n",
       "50%         179700.000000  92840.000000         3340.000000  \n",
       "75%         264725.000000  94601.000000         4931.000000  \n",
       "max         500001.000000  96161.000000         9859.000000  "
      ]
     },
     "execution_count": 13,
     "metadata": {},
     "output_type": "execute_result"
    }
   ],
   "source": [
    "# print out the statistical information of merged_data table\n",
    "merged_data.describe()"
   ]
  },
  {
   "cell_type": "code",
   "execution_count": 14,
   "id": "75cf6810-368b-42ba-811e-ec67bc7463e9",
   "metadata": {
    "tags": []
   },
   "outputs": [
    {
     "name": "stdout",
     "output_type": "stream",
     "text": [
      "<class 'pandas.core.frame.DataFrame'>\n",
      "RangeIndex: 20640 entries, 0 to 20639\n",
      "Data columns (total 38 columns):\n",
      " #   Column                                                                              Non-Null Count  Dtype  \n",
      "---  ------                                                                              --------------  -----  \n",
      " 0   longitude                                                                           20640 non-null  float64\n",
      " 1   latitude                                                                            20640 non-null  float64\n",
      " 2   housing_median_age                                                                  20640 non-null  float64\n",
      " 3   total_rooms                                                                         20640 non-null  float64\n",
      " 4   total_bedrooms                                                                      20433 non-null  float64\n",
      " 5   population                                                                          20640 non-null  float64\n",
      " 6   households                                                                          20640 non-null  float64\n",
      " 7   median_income                                                                       20640 non-null  float64\n",
      " 8   median_house_value                                                                  20640 non-null  float64\n",
      " 9   ocean_proximity                                                                     20640 non-null  object \n",
      " 10  street_number                                                                       19008 non-null  object \n",
      " 11  route                                                                               20091 non-null  object \n",
      " 12  locality-political                                                                  20452 non-null  object \n",
      " 13  administrative_area_level_2-political                                               20589 non-null  object \n",
      " 14  administrative_area_level_1-political                                               20637 non-null  object \n",
      " 15  country-political                                                                   20640 non-null  object \n",
      " 16  postal_code                                                                         20454 non-null  float64\n",
      " 17  address                                                                             20640 non-null  object \n",
      " 18  neighborhood-political                                                              9000 non-null   object \n",
      " 19  postal_code_suffix                                                                  14095 non-null  float64\n",
      " 20  establishment-point_of_interest-transit_station                                     255 non-null    object \n",
      " 21  establishment-park-point_of_interest                                                46 non-null     object \n",
      " 22  premise                                                                             36 non-null     object \n",
      " 23  establishment-point_of_interest-subway_station-transit_station                      3 non-null      object \n",
      " 24  airport-establishment-finance-moving_company-point_of_interest-storage              1 non-null      object \n",
      " 25  subpremise                                                                          25 non-null     object \n",
      " 26  bus_station-establishment-point_of_interest-transit_station                         22 non-null     object \n",
      " 27  establishment-park-point_of_interest-tourist_attraction                             34 non-null     object \n",
      " 28  establishment-natural_feature                                                       11 non-null     object \n",
      " 29  airport-establishment-point_of_interest                                             8 non-null      object \n",
      " 30  political-sublocality-sublocality_level_1                                           33 non-null     object \n",
      " 31  administrative_area_level_3-political                                               1 non-null      object \n",
      " 32  post_box                                                                            6 non-null      object \n",
      " 33  establishment-light_rail_station-point_of_interest-transit_station                  13 non-null     object \n",
      " 34  establishment-point_of_interest                                                     1 non-null      object \n",
      " 35  aquarium-establishment-park-point_of_interest-tourist_attraction-zoo                1 non-null      object \n",
      " 36  campground-establishment-lodging-park-point_of_interest-rv_park-tourist_attraction  1 non-null      object \n",
      " 37  cemetery-establishment-park-point_of_interest                                       1 non-null      object \n",
      "dtypes: float64(11), object(27)\n",
      "memory usage: 6.0+ MB\n"
     ]
    }
   ],
   "source": [
    "# Displays summary information about the merged_data\n",
    "merged_data.info()"
   ]
  },
  {
   "cell_type": "code",
   "execution_count": 15,
   "id": "4b2dee39-2f2c-4182-bb7a-6d3eced2f16a",
   "metadata": {
    "tags": []
   },
   "outputs": [
    {
     "data": {
      "text/plain": [
       "Index(['longitude', 'latitude', 'housing_median_age', 'total_rooms',\n",
       "       'total_bedrooms', 'population', 'households', 'median_income',\n",
       "       'median_house_value', 'ocean_proximity', 'street_number', 'route',\n",
       "       'locality-political', 'administrative_area_level_2-political',\n",
       "       'administrative_area_level_1-political', 'country-political',\n",
       "       'postal_code', 'address', 'neighborhood-political',\n",
       "       'postal_code_suffix', 'establishment-point_of_interest-transit_station',\n",
       "       'establishment-park-point_of_interest', 'premise',\n",
       "       'establishment-point_of_interest-subway_station-transit_station',\n",
       "       'airport-establishment-finance-moving_company-point_of_interest-storage',\n",
       "       'subpremise',\n",
       "       'bus_station-establishment-point_of_interest-transit_station',\n",
       "       'establishment-park-point_of_interest-tourist_attraction',\n",
       "       'establishment-natural_feature',\n",
       "       'airport-establishment-point_of_interest',\n",
       "       'political-sublocality-sublocality_level_1',\n",
       "       'administrative_area_level_3-political', 'post_box',\n",
       "       'establishment-light_rail_station-point_of_interest-transit_station',\n",
       "       'establishment-point_of_interest',\n",
       "       'aquarium-establishment-park-point_of_interest-tourist_attraction-zoo',\n",
       "       'campground-establishment-lodging-park-point_of_interest-rv_park-tourist_attraction',\n",
       "       'cemetery-establishment-park-point_of_interest'],\n",
       "      dtype='object')"
      ]
     },
     "execution_count": 15,
     "metadata": {},
     "output_type": "execute_result"
    }
   ],
   "source": [
    "merged_data.columns"
   ]
  },
  {
   "cell_type": "code",
   "execution_count": 16,
   "id": "a505d601-b211-4770-bef8-519f76129ac1",
   "metadata": {
    "tags": []
   },
   "outputs": [
    {
     "data": {
      "text/plain": [
       "ocean_proximity\n",
       "<1H OCEAN     9136\n",
       "INLAND        6551\n",
       "NEAR OCEAN    2658\n",
       "NEAR BAY      2290\n",
       "ISLAND           5\n",
       "Name: count, dtype: int64"
      ]
     },
     "execution_count": 16,
     "metadata": {},
     "output_type": "execute_result"
    }
   ],
   "source": [
    "merged_data['ocean_proximity'].value_counts()"
   ]
  },
  {
   "cell_type": "code",
   "execution_count": 17,
   "id": "cccf78a0-fa93-4739-8cbf-364fd6fcd5a7",
   "metadata": {},
   "outputs": [
    {
     "name": "stdout",
     "output_type": "stream",
     "text": [
      "  neighborhood-political  less_1_ocean  inland  island  near_bay  near_ocean  \\\n",
      "1             Merriewood             0       0       0         1           0   \n",
      "2        Upper Rockridge             0       0       0         1           0   \n",
      "3              Rockridge             0       0       0         1           0   \n",
      "4              Rockridge             0       0       0         1           0   \n",
      "5              Rockridge             0       0       0         1           0   \n",
      "\n",
      "   median_house_value  median_house_age_group  total_households  \\\n",
      "1       328500.000000                    30.0               797   \n",
      "2       377557.285714                    40.0               358   \n",
      "3       292483.333333                    50.0               425   \n",
      "4       292483.333333                    50.0               425   \n",
      "5       292483.333333                    50.0               425   \n",
      "\n",
      "   bedrooms_per_household  locality_code  \n",
      "1                0.971880            625  \n",
      "2                1.073446            625  \n",
      "3                1.073059            625  \n",
      "4                1.081081            625  \n",
      "5                1.103627            625  \n"
     ]
    }
   ],
   "source": [
    "import pandas as pd\n",
    "import numpy as np\n",
    "\n",
    "# Clean the ocean_proximity data by trimming whitespace and converting to lowercase\n",
    "#merged_data['ocean_proximity'] = merged_data['ocean_proximity'].str.strip().str.lower()\n",
    "\n",
    "# Applying pd.get_dummies to perform one-hot encoding on 'ocean_proximity'\n",
    "ocean_proximity_encoded = pd.get_dummies(merged_data['ocean_proximity'], dtype = \"int\")\n",
    "\n",
    "\n",
    "ocean_proximity_encoded.rename(columns={\n",
    "    '<1H OCEAN': 'less_1_ocean',\n",
    "    'INLAND': 'inland',\n",
    "    'ISLAND': 'island',\n",
    "    'NEAR BAY': 'near_bay',\n",
    "    'NEAR OCEAN': 'near_ocean'\n",
    "}, inplace=True)\n",
    "\n",
    "\n",
    "# Concatenate the new one-hot encoded DataFrame with the original DataFrame\n",
    "merged_data = pd.concat([merged_data, ocean_proximity_encoded], axis=1)\n",
    "\n",
    "\n",
    "# Drop the original 'ocean_proximity' column to avoid redundancy\n",
    "merged_data.drop('ocean_proximity', axis=1, inplace=True)\n",
    "\n",
    "\n",
    "# Group by neighborhood-political to calculate aggregates\n",
    "grouped = merged_data.groupby('neighborhood-political')\n",
    "\n",
    "# Fill NaN values before grouping \n",
    "merged_data['households'] = merged_data['households'].fillna(merged_data['households'].mean())\n",
    "merged_data['total_bedrooms'] = merged_data['total_bedrooms'].fillna(merged_data['total_bedrooms'].mean())\n",
    "\n",
    "# Apply group transforms and handle NaN values immediately after\n",
    "transformed_households = grouped['households'].transform('mean')\n",
    "transformed_households.fillna(transformed_households.mean(), inplace=True)\n",
    "\n",
    "transformed_median_house_value = grouped['median_house_value'].transform('mean')\n",
    "transformed_median_house_value.fillna(transformed_median_house_value.mean(), inplace=True)\n",
    "\n",
    "# Calculate median house value and cap at 500,000\n",
    "merged_data['median_house_value'] = transformed_median_house_value.clip(upper=500000)\n",
    "\n",
    "# Calculate and discretize median house age\n",
    "transformed_median_house_age = grouped['housing_median_age'].transform('mean')\n",
    "transformed_median_house_age.fillna(transformed_median_house_age.mean(), inplace=True)\n",
    "merged_data['median_house_age_group'] = (transformed_median_house_age // 10) * 10\n",
    "\n",
    "# Ensure total households are integers by rounding up\n",
    "merged_data['total_households'] = np.ceil(transformed_households).astype(int)\n",
    "\n",
    "# Calculate bedrooms per household and impute missing values\n",
    "merged_data['bedrooms_per_household'] = merged_data['total_bedrooms'] / merged_data['households']\n",
    "avg_bedrooms_per_locality = grouped['bedrooms_per_household'].transform('mean')\n",
    "avg_bedrooms_per_locality = avg_bedrooms_per_locality.fillna(avg_bedrooms_per_locality.mean())\n",
    "merged_data['bedrooms_per_household'] = merged_data['bedrooms_per_household'].fillna(avg_bedrooms_per_locality)\n",
    "\n",
    "# Encode locality-political\n",
    "merged_data['locality_code'] = merged_data['locality-political'].astype('category').cat.codes\n",
    "\n",
    "\n",
    "#print(merged_data.columns)\n",
    "\n",
    "merged_data.rename(columns={'ocean_<1h_ocean': 'ocean_less_than_1h_ocean'}, inplace=True)\n",
    "\n",
    "# Select relevant columns for the feature group using the new column name\n",
    "neighborhood_features = merged_data[['neighborhood-political', 'less_1_ocean', 'inland', \n",
    "                                     'island', 'near_bay', 'near_ocean', 'median_house_value', \n",
    "                                     'median_house_age_group', 'total_households', 'bedrooms_per_household', 'locality_code']]\n",
    "\n",
    "# Drop rows where 'neighborhood-political' is null to clean up the data\n",
    "neighborhood_features_cleaned = neighborhood_features.dropna(subset=['neighborhood-political'])\n",
    "\n",
    "# Display the cleaned DataFrame\n",
    "print(neighborhood_features_cleaned.head())\n",
    "\n",
    "\n"
   ]
  },
  {
   "cell_type": "code",
   "execution_count": 18,
   "id": "06fb6753-42e4-46c8-95c0-6d0b79ba102c",
   "metadata": {
    "tags": []
   },
   "outputs": [
    {
     "data": {
      "text/plain": [
       "less_1_ocean\n",
       "1    4651\n",
       "0    4349\n",
       "Name: count, dtype: int64"
      ]
     },
     "execution_count": 18,
     "metadata": {},
     "output_type": "execute_result"
    }
   ],
   "source": [
    "neighborhood_features_cleaned['less_1_ocean'].value_counts()"
   ]
  },
  {
   "cell_type": "code",
   "execution_count": 19,
   "id": "b4d357d9-4502-43cb-953f-adcb441ef6ac",
   "metadata": {
    "tags": []
   },
   "outputs": [
    {
     "data": {
      "text/plain": [
       "inland\n",
       "0    7506\n",
       "1    1494\n",
       "Name: count, dtype: int64"
      ]
     },
     "execution_count": 19,
     "metadata": {},
     "output_type": "execute_result"
    }
   ],
   "source": [
    "neighborhood_features_cleaned['inland'].value_counts()"
   ]
  },
  {
   "cell_type": "code",
   "execution_count": 20,
   "id": "6d6637be-fd7a-48cd-98fa-9dbb19d54b24",
   "metadata": {
    "tags": []
   },
   "outputs": [
    {
     "data": {
      "text/plain": [
       "island\n",
       "0    9000\n",
       "Name: count, dtype: int64"
      ]
     },
     "execution_count": 20,
     "metadata": {},
     "output_type": "execute_result"
    }
   ],
   "source": [
    "neighborhood_features_cleaned['island'].value_counts()"
   ]
  },
  {
   "cell_type": "code",
   "execution_count": 21,
   "id": "7676a715-da74-49ea-b819-1d396f08ef46",
   "metadata": {
    "tags": []
   },
   "outputs": [
    {
     "data": {
      "text/plain": [
       "near_bay\n",
       "0    7590\n",
       "1    1410\n",
       "Name: count, dtype: int64"
      ]
     },
     "execution_count": 21,
     "metadata": {},
     "output_type": "execute_result"
    }
   ],
   "source": [
    "neighborhood_features_cleaned['near_bay'].value_counts()"
   ]
  },
  {
   "cell_type": "code",
   "execution_count": 22,
   "id": "c72fc3fd-66a0-444f-be65-e3649626ccf0",
   "metadata": {
    "tags": []
   },
   "outputs": [
    {
     "data": {
      "text/plain": [
       "near_ocean\n",
       "0    7555\n",
       "1    1445\n",
       "Name: count, dtype: int64"
      ]
     },
     "execution_count": 22,
     "metadata": {},
     "output_type": "execute_result"
    }
   ],
   "source": [
    "neighborhood_features_cleaned['near_ocean'].value_counts()"
   ]
  },
  {
   "cell_type": "code",
   "execution_count": 23,
   "id": "7252389a-939e-4c20-bc37-1f9229010aa9",
   "metadata": {
    "tags": []
   },
   "outputs": [
    {
     "data": {
      "text/plain": [
       "Index(['neighborhood-political', 'less_1_ocean', 'inland', 'island',\n",
       "       'near_bay', 'near_ocean', 'median_house_value',\n",
       "       'median_house_age_group', 'total_households', 'bedrooms_per_household',\n",
       "       'locality_code'],\n",
       "      dtype='object')"
      ]
     },
     "execution_count": 23,
     "metadata": {},
     "output_type": "execute_result"
    }
   ],
   "source": [
    "neighborhood_features_cleaned.columns"
   ]
  },
  {
   "cell_type": "code",
   "execution_count": 24,
   "id": "61187b1a-fe69-42ef-acf5-c4f193591ea7",
   "metadata": {
    "tags": []
   },
   "outputs": [
    {
     "name": "stdout",
     "output_type": "stream",
     "text": [
      "<class 'pandas.core.frame.DataFrame'>\n",
      "Index: 9000 entries, 1 to 20636\n",
      "Data columns (total 11 columns):\n",
      " #   Column                  Non-Null Count  Dtype  \n",
      "---  ------                  --------------  -----  \n",
      " 0   neighborhood-political  9000 non-null   object \n",
      " 1   less_1_ocean            9000 non-null   int64  \n",
      " 2   inland                  9000 non-null   int64  \n",
      " 3   island                  9000 non-null   int64  \n",
      " 4   near_bay                9000 non-null   int64  \n",
      " 5   near_ocean              9000 non-null   int64  \n",
      " 6   median_house_value      9000 non-null   float64\n",
      " 7   median_house_age_group  9000 non-null   float64\n",
      " 8   total_households        9000 non-null   int64  \n",
      " 9   bedrooms_per_household  9000 non-null   float64\n",
      " 10  locality_code           9000 non-null   int16  \n",
      "dtypes: float64(3), int16(1), int64(6), object(1)\n",
      "memory usage: 791.0+ KB\n"
     ]
    }
   ],
   "source": [
    "neighborhood_features_cleaned.info()"
   ]
  },
  {
   "cell_type": "code",
   "execution_count": 25,
   "id": "9398b237-7e64-459d-9fa1-74789fb47a0d",
   "metadata": {
    "tags": []
   },
   "outputs": [
    {
     "name": "stdout",
     "output_type": "stream",
     "text": [
      "      neighborhood-political  less_1_ocean  inland  island  near_bay  \\\n",
      "17825              Brooktree             1       0       0         0   \n",
      "\n",
      "       near_ocean  median_house_value  median_house_age_group  \\\n",
      "17825           0            257400.0                     0.0   \n",
      "\n",
      "       total_households  bedrooms_per_household  locality_code  \n",
      "17825              1438                0.374041            787         neighborhood-political  less_1_ocean  inland  island  near_bay  \\\n",
      "15616      Fisherman's Wharf             0       0       0         1   \n",
      "\n",
      "       near_ocean  median_house_value  median_house_age_group  \\\n",
      "15616           0            500000.0                    50.0   \n",
      "\n",
      "       total_households  bedrooms_per_household  locality_code  \n",
      "15616               250                   1.268            781         neighborhood-political  less_1_ocean  inland  island  near_bay  \\\n",
      "16628               Los Osos             0       0       0         0   \n",
      "16629               Los Osos             0       0       0         0   \n",
      "16630               Los Osos             0       0       0         0   \n",
      "16631               Los Osos             0       0       0         0   \n",
      "16633               Los Osos             0       0       0         0   \n",
      "16634               Los Osos             0       0       0         0   \n",
      "16635               Los Osos             0       0       0         0   \n",
      "16636               Los Osos             0       0       0         0   \n",
      "\n",
      "       near_ocean  median_house_value  median_house_age_group  \\\n",
      "16628           1            221612.5                    10.0   \n",
      "16629           1            221612.5                    10.0   \n",
      "16630           1            221612.5                    10.0   \n",
      "16631           1            221612.5                    10.0   \n",
      "16633           1            221612.5                    10.0   \n",
      "16634           1            221612.5                    10.0   \n",
      "16635           1            221612.5                    10.0   \n",
      "16636           1            221612.5                    10.0   \n",
      "\n",
      "       total_households  bedrooms_per_household  locality_code  \n",
      "16628               612                1.042384             55  \n",
      "16629               612                1.031722             55  \n",
      "16630               612                1.062121             55  \n",
      "16631               612                1.030651             55  \n",
      "16633               612                1.095628             55  \n",
      "16634               612                0.990148             55  \n",
      "16635               612                1.034810             55  \n",
      "16636               612                1.095611             55  \n"
     ]
    }
   ],
   "source": [
    "print(neighborhood_features_cleaned[neighborhood_features_cleaned['neighborhood-political']=='Brooktree'], neighborhood_features_cleaned[neighborhood_features_cleaned['neighborhood-political']== \"Fisherman's Wharf\"], neighborhood_features_cleaned[neighborhood_features_cleaned['neighborhood-political']=='Los Osos'])\n"
   ]
  },
  {
   "cell_type": "code",
   "execution_count": 26,
   "id": "34675349-5d5f-4d22-82f1-455462b6f82e",
   "metadata": {
    "tags": []
   },
   "outputs": [
    {
     "data": {
      "text/html": [
       "<div>\n",
       "<style scoped>\n",
       "    .dataframe tbody tr th:only-of-type {\n",
       "        vertical-align: middle;\n",
       "    }\n",
       "\n",
       "    .dataframe tbody tr th {\n",
       "        vertical-align: top;\n",
       "    }\n",
       "\n",
       "    .dataframe thead th {\n",
       "        text-align: right;\n",
       "    }\n",
       "</style>\n",
       "<table border=\"1\" class=\"dataframe\">\n",
       "  <thead>\n",
       "    <tr style=\"text-align: right;\">\n",
       "      <th></th>\n",
       "      <th>neighborhood-political</th>\n",
       "      <th>less_1_ocean</th>\n",
       "      <th>inland</th>\n",
       "      <th>island</th>\n",
       "      <th>near_bay</th>\n",
       "      <th>near_ocean</th>\n",
       "      <th>median_house_value</th>\n",
       "      <th>median_house_age_group</th>\n",
       "      <th>total_households</th>\n",
       "      <th>bedrooms_per_household</th>\n",
       "      <th>locality_code</th>\n",
       "    </tr>\n",
       "  </thead>\n",
       "  <tbody>\n",
       "    <tr>\n",
       "      <th>17825</th>\n",
       "      <td>Brooktree</td>\n",
       "      <td>1</td>\n",
       "      <td>0</td>\n",
       "      <td>0</td>\n",
       "      <td>0</td>\n",
       "      <td>0</td>\n",
       "      <td>257400.0</td>\n",
       "      <td>0.0</td>\n",
       "      <td>1438</td>\n",
       "      <td>0.374041</td>\n",
       "      <td>787</td>\n",
       "    </tr>\n",
       "    <tr>\n",
       "      <th>15616</th>\n",
       "      <td>Fisherman's Wharf</td>\n",
       "      <td>0</td>\n",
       "      <td>0</td>\n",
       "      <td>0</td>\n",
       "      <td>1</td>\n",
       "      <td>0</td>\n",
       "      <td>500000.0</td>\n",
       "      <td>50.0</td>\n",
       "      <td>250</td>\n",
       "      <td>1.268000</td>\n",
       "      <td>781</td>\n",
       "    </tr>\n",
       "    <tr>\n",
       "      <th>16628</th>\n",
       "      <td>Los Osos</td>\n",
       "      <td>0</td>\n",
       "      <td>0</td>\n",
       "      <td>0</td>\n",
       "      <td>0</td>\n",
       "      <td>1</td>\n",
       "      <td>221612.5</td>\n",
       "      <td>10.0</td>\n",
       "      <td>612</td>\n",
       "      <td>1.042384</td>\n",
       "      <td>55</td>\n",
       "    </tr>\n",
       "    <tr>\n",
       "      <th>16629</th>\n",
       "      <td>Los Osos</td>\n",
       "      <td>0</td>\n",
       "      <td>0</td>\n",
       "      <td>0</td>\n",
       "      <td>0</td>\n",
       "      <td>1</td>\n",
       "      <td>221612.5</td>\n",
       "      <td>10.0</td>\n",
       "      <td>612</td>\n",
       "      <td>1.031722</td>\n",
       "      <td>55</td>\n",
       "    </tr>\n",
       "    <tr>\n",
       "      <th>16630</th>\n",
       "      <td>Los Osos</td>\n",
       "      <td>0</td>\n",
       "      <td>0</td>\n",
       "      <td>0</td>\n",
       "      <td>0</td>\n",
       "      <td>1</td>\n",
       "      <td>221612.5</td>\n",
       "      <td>10.0</td>\n",
       "      <td>612</td>\n",
       "      <td>1.062121</td>\n",
       "      <td>55</td>\n",
       "    </tr>\n",
       "    <tr>\n",
       "      <th>16631</th>\n",
       "      <td>Los Osos</td>\n",
       "      <td>0</td>\n",
       "      <td>0</td>\n",
       "      <td>0</td>\n",
       "      <td>0</td>\n",
       "      <td>1</td>\n",
       "      <td>221612.5</td>\n",
       "      <td>10.0</td>\n",
       "      <td>612</td>\n",
       "      <td>1.030651</td>\n",
       "      <td>55</td>\n",
       "    </tr>\n",
       "    <tr>\n",
       "      <th>16633</th>\n",
       "      <td>Los Osos</td>\n",
       "      <td>0</td>\n",
       "      <td>0</td>\n",
       "      <td>0</td>\n",
       "      <td>0</td>\n",
       "      <td>1</td>\n",
       "      <td>221612.5</td>\n",
       "      <td>10.0</td>\n",
       "      <td>612</td>\n",
       "      <td>1.095628</td>\n",
       "      <td>55</td>\n",
       "    </tr>\n",
       "    <tr>\n",
       "      <th>16634</th>\n",
       "      <td>Los Osos</td>\n",
       "      <td>0</td>\n",
       "      <td>0</td>\n",
       "      <td>0</td>\n",
       "      <td>0</td>\n",
       "      <td>1</td>\n",
       "      <td>221612.5</td>\n",
       "      <td>10.0</td>\n",
       "      <td>612</td>\n",
       "      <td>0.990148</td>\n",
       "      <td>55</td>\n",
       "    </tr>\n",
       "    <tr>\n",
       "      <th>16635</th>\n",
       "      <td>Los Osos</td>\n",
       "      <td>0</td>\n",
       "      <td>0</td>\n",
       "      <td>0</td>\n",
       "      <td>0</td>\n",
       "      <td>1</td>\n",
       "      <td>221612.5</td>\n",
       "      <td>10.0</td>\n",
       "      <td>612</td>\n",
       "      <td>1.034810</td>\n",
       "      <td>55</td>\n",
       "    </tr>\n",
       "    <tr>\n",
       "      <th>16636</th>\n",
       "      <td>Los Osos</td>\n",
       "      <td>0</td>\n",
       "      <td>0</td>\n",
       "      <td>0</td>\n",
       "      <td>0</td>\n",
       "      <td>1</td>\n",
       "      <td>221612.5</td>\n",
       "      <td>10.0</td>\n",
       "      <td>612</td>\n",
       "      <td>1.095611</td>\n",
       "      <td>55</td>\n",
       "    </tr>\n",
       "  </tbody>\n",
       "</table>\n",
       "</div>"
      ],
      "text/plain": [
       "      neighborhood-political  less_1_ocean  inland  island  near_bay  \\\n",
       "17825              Brooktree             1       0       0         0   \n",
       "15616      Fisherman's Wharf             0       0       0         1   \n",
       "16628               Los Osos             0       0       0         0   \n",
       "16629               Los Osos             0       0       0         0   \n",
       "16630               Los Osos             0       0       0         0   \n",
       "16631               Los Osos             0       0       0         0   \n",
       "16633               Los Osos             0       0       0         0   \n",
       "16634               Los Osos             0       0       0         0   \n",
       "16635               Los Osos             0       0       0         0   \n",
       "16636               Los Osos             0       0       0         0   \n",
       "\n",
       "       near_ocean  median_house_value  median_house_age_group  \\\n",
       "17825           0            257400.0                     0.0   \n",
       "15616           0            500000.0                    50.0   \n",
       "16628           1            221612.5                    10.0   \n",
       "16629           1            221612.5                    10.0   \n",
       "16630           1            221612.5                    10.0   \n",
       "16631           1            221612.5                    10.0   \n",
       "16633           1            221612.5                    10.0   \n",
       "16634           1            221612.5                    10.0   \n",
       "16635           1            221612.5                    10.0   \n",
       "16636           1            221612.5                    10.0   \n",
       "\n",
       "       total_households  bedrooms_per_household  locality_code  \n",
       "17825              1438                0.374041            787  \n",
       "15616               250                1.268000            781  \n",
       "16628               612                1.042384             55  \n",
       "16629               612                1.031722             55  \n",
       "16630               612                1.062121             55  \n",
       "16631               612                1.030651             55  \n",
       "16633               612                1.095628             55  \n",
       "16634               612                0.990148             55  \n",
       "16635               612                1.034810             55  \n",
       "16636               612                1.095611             55  "
      ]
     },
     "execution_count": 26,
     "metadata": {},
     "output_type": "execute_result"
    }
   ],
   "source": [
    "\n",
    "# Create boolean masks for each neighborhood\n",
    "brooktree_mask = neighborhood_features_cleaned['neighborhood-political'] == 'Brooktree'\n",
    "fishermans_wharf_mask = neighborhood_features_cleaned['neighborhood-political'] == \"Fisherman's Wharf\"\n",
    "los_osos_mask = neighborhood_features_cleaned['neighborhood-political'] == 'Los Osos'\n",
    "\n",
    "# Filter data for each neighborhood\n",
    "brooktree_data = neighborhood_features_cleaned[brooktree_mask]\n",
    "fishermans_wharf_data = neighborhood_features_cleaned[fishermans_wharf_mask]\n",
    "los_osos_data = neighborhood_features_cleaned[los_osos_mask]\n",
    "\n",
    "# Concatenate the results into a single DataFrame\n",
    "result_df = pd.concat([brooktree_data, fishermans_wharf_data, los_osos_data])\n",
    "\n",
    "# Display the concatenated DataFrame\n",
    "result_df\n"
   ]
  },
  {
   "cell_type": "markdown",
   "id": "e543a002-8bad-43f3-9293-bfbd885ef246",
   "metadata": {},
   "source": [
    "### Ingest data into FeatureStore"
   ]
  },
  {
   "cell_type": "markdown",
   "id": "67488a11-7466-475a-b248-d6bfc1f56880",
   "metadata": {
    "tags": []
   },
   "source": [
    "In this step we will create the FeatureGroups representing the transaction and identity tables.\n"
   ]
  },
  {
   "cell_type": "markdown",
   "id": "7f0fa685-b3f0-4f5d-a021-9f4bdebaf855",
   "metadata": {},
   "source": [
    "### Define FeatureGroups"
   ]
  },
  {
   "cell_type": "code",
   "execution_count": 27,
   "id": "a1aa6b01-096a-4977-96a0-3c8222139ac0",
   "metadata": {
    "tags": []
   },
   "outputs": [],
   "source": [
    "from time import gmtime, strftime, sleep\n",
    "\n",
    "neighborhood_politics_feature_group_name = \"neighborhood_politics_feature_group-\" + strftime(\"%d-%H-%M-%S\", gmtime())\n"
   ]
  },
  {
   "cell_type": "code",
   "execution_count": 28,
   "id": "8faad5a7-746d-487f-87bf-005f559970bf",
   "metadata": {
    "tags": []
   },
   "outputs": [],
   "source": [
    "from sagemaker.feature_store.feature_group import FeatureGroup\n",
    "\n",
    "neighborhood_politics_feature_group = FeatureGroup(\n",
    "    name=neighborhood_politics_feature_group_name, sagemaker_session=feature_store_session\n",
    ")\n",
    "#transaction_feature_group = FeatureGroup(name=transaction_feature_group_name, sagemaker_session=feature_store_session)"
   ]
  },
  {
   "cell_type": "code",
   "execution_count": 29,
   "id": "2242da83-b101-4e48-b28d-e7ac44d6efb5",
   "metadata": {
    "tags": []
   },
   "outputs": [
    {
     "name": "stdout",
     "output_type": "stream",
     "text": [
      "<class 'pandas.core.frame.DataFrame'>\n",
      "Index: 9000 entries, 1 to 20636\n",
      "Data columns (total 12 columns):\n",
      " #   Column                  Non-Null Count  Dtype  \n",
      "---  ------                  --------------  -----  \n",
      " 0   neighborhood-political  9000 non-null   string \n",
      " 1   less_1_ocean            9000 non-null   int64  \n",
      " 2   inland                  9000 non-null   int64  \n",
      " 3   island                  9000 non-null   int64  \n",
      " 4   near_bay                9000 non-null   int64  \n",
      " 5   near_ocean              9000 non-null   int64  \n",
      " 6   median_house_value      9000 non-null   float64\n",
      " 7   median_house_age_group  9000 non-null   float64\n",
      " 8   total_households        9000 non-null   int64  \n",
      " 9   bedrooms_per_household  9000 non-null   float64\n",
      " 10  locality_code           9000 non-null   int16  \n",
      " 11  event_time              9000 non-null   float64\n",
      "dtypes: float64(4), int16(1), int64(6), string(1)\n",
      "memory usage: 861.3 KB\n"
     ]
    },
    {
     "name": "stderr",
     "output_type": "stream",
     "text": [
      "/tmp/ipykernel_6128/1368884734.py:9: SettingWithCopyWarning: \n",
      "A value is trying to be set on a copy of a slice from a DataFrame.\n",
      "Try using .loc[row_indexer,col_indexer] = value instead\n",
      "\n",
      "See the caveats in the documentation: https://pandas.pydata.org/pandas-docs/stable/user_guide/indexing.html#returning-a-view-versus-a-copy\n",
      "  data_frame[label] = data_frame[label].astype(\"str\").astype(\"string\")\n",
      "/tmp/ipykernel_6128/1368884734.py:20: SettingWithCopyWarning: \n",
      "A value is trying to be set on a copy of a slice from a DataFrame.\n",
      "Try using .loc[row_indexer,col_indexer] = value instead\n",
      "\n",
      "See the caveats in the documentation: https://pandas.pydata.org/pandas-docs/stable/user_guide/indexing.html#returning-a-view-versus-a-copy\n",
      "  neighborhood_features_cleaned[event_time_feature_name] = pd.Series(\n"
     ]
    }
   ],
   "source": [
    "import time\n",
    "\n",
    "current_time_sec = int(round(time.time()))\n",
    "\n",
    "\n",
    "def cast_object_to_string(data_frame):\n",
    "    for label in data_frame.columns:\n",
    "        if data_frame.dtypes[label] == \"object\":\n",
    "            data_frame[label] = data_frame[label].astype(\"str\").astype(\"string\")\n",
    "\n",
    "\n",
    "# cast object dtype to string. The SageMaker FeatureStore Python SDK will then map the string dtype to String feature type.\n",
    "cast_object_to_string(neighborhood_features_cleaned)\n",
    "\n",
    "# record identifier and event time feature names\n",
    "neighborhood_identifier_feature_name = \"neighborhood-political\"\n",
    "event_time_feature_name = \"event_time\"\n",
    "\n",
    "# append EventTime feature\n",
    "neighborhood_features_cleaned[event_time_feature_name] = pd.Series(\n",
    "    [current_time_sec] * len(neighborhood_features_cleaned),\n",
    "    index=neighborhood_features_cleaned.index,  # Ensure the series aligns with the DataFrame's index\n",
    "    dtype=\"float64\"\n",
    ")\n",
    "\n",
    "\n",
    "neighborhood_features_cleaned.info()"
   ]
  },
  {
   "cell_type": "code",
   "execution_count": 30,
   "id": "c993c563-b6a7-453d-b6bc-65d38649ab43",
   "metadata": {
    "tags": []
   },
   "outputs": [
    {
     "data": {
      "text/plain": [
       "[FeatureDefinition(feature_name='neighborhood-political', feature_type=<FeatureTypeEnum.STRING: 'String'>, collection_type=None),\n",
       " FeatureDefinition(feature_name='less_1_ocean', feature_type=<FeatureTypeEnum.INTEGRAL: 'Integral'>, collection_type=None),\n",
       " FeatureDefinition(feature_name='inland', feature_type=<FeatureTypeEnum.INTEGRAL: 'Integral'>, collection_type=None),\n",
       " FeatureDefinition(feature_name='island', feature_type=<FeatureTypeEnum.INTEGRAL: 'Integral'>, collection_type=None),\n",
       " FeatureDefinition(feature_name='near_bay', feature_type=<FeatureTypeEnum.INTEGRAL: 'Integral'>, collection_type=None),\n",
       " FeatureDefinition(feature_name='near_ocean', feature_type=<FeatureTypeEnum.INTEGRAL: 'Integral'>, collection_type=None),\n",
       " FeatureDefinition(feature_name='median_house_value', feature_type=<FeatureTypeEnum.FRACTIONAL: 'Fractional'>, collection_type=None),\n",
       " FeatureDefinition(feature_name='median_house_age_group', feature_type=<FeatureTypeEnum.FRACTIONAL: 'Fractional'>, collection_type=None),\n",
       " FeatureDefinition(feature_name='total_households', feature_type=<FeatureTypeEnum.INTEGRAL: 'Integral'>, collection_type=None),\n",
       " FeatureDefinition(feature_name='bedrooms_per_household', feature_type=<FeatureTypeEnum.FRACTIONAL: 'Fractional'>, collection_type=None),\n",
       " FeatureDefinition(feature_name='locality_code', feature_type=<FeatureTypeEnum.INTEGRAL: 'Integral'>, collection_type=None),\n",
       " FeatureDefinition(feature_name='event_time', feature_type=<FeatureTypeEnum.FRACTIONAL: 'Fractional'>, collection_type=None)]"
      ]
     },
     "execution_count": 30,
     "metadata": {},
     "output_type": "execute_result"
    }
   ],
   "source": [
    "# load feature definitions to the feature group. SageMaker FeatureStore Python SDK will auto-detect the data schema based on input data.\n",
    "neighborhood_politics_feature_group.load_feature_definitions(data_frame=neighborhood_features_cleaned)"
   ]
  },
  {
   "cell_type": "markdown",
   "id": "fd2e4d56-7583-4dbf-95de-1cc73e20c430",
   "metadata": {},
   "source": [
    "### Create FeatureGroups in SageMaker FeatureStore"
   ]
  },
  {
   "cell_type": "code",
   "execution_count": 31,
   "id": "0c87da97-496b-45b5-87bc-5895c7b2275b",
   "metadata": {
    "tags": []
   },
   "outputs": [
    {
     "name": "stdout",
     "output_type": "stream",
     "text": [
      "Waiting for Feature Group Creation\n",
      "Waiting for Feature Group Creation\n",
      "Waiting for Feature Group Creation\n",
      "FeatureGroup neighborhood_politics_feature_group-28-22-08-36 successfully created.\n"
     ]
    }
   ],
   "source": [
    "def wait_for_feature_group_creation_complete(feature_group):\n",
    "    status = feature_group.describe().get(\"FeatureGroupStatus\")\n",
    "    while status == \"Creating\":\n",
    "        print(\"Waiting for Feature Group Creation\")\n",
    "        time.sleep(5)\n",
    "        status = feature_group.describe().get(\"FeatureGroupStatus\")\n",
    "    if status != \"Created\":\n",
    "        raise RuntimeError(f\"Failed to create feature group {feature_group.name}\")\n",
    "    print(f\"FeatureGroup {feature_group.name} successfully created.\")\n",
    "\n",
    "\n",
    "neighborhood_politics_feature_group.create(\n",
    "    s3_uri=f\"s3://{default_s3_bucket_name}/{prefix}\",\n",
    "    record_identifier_name=neighborhood_identifier_feature_name,\n",
    "    event_time_feature_name=event_time_feature_name,\n",
    "    role_arn=role,\n",
    "    enable_online_store=True,\n",
    ")\n",
    "\n",
    "\n",
    "wait_for_feature_group_creation_complete(feature_group=neighborhood_politics_feature_group)\n"
   ]
  },
  {
   "cell_type": "markdown",
   "id": "112a6f73-f173-49f2-ad38-4a589de243c5",
   "metadata": {},
   "source": [
    "Confirm the FeatureGroup has been created by using the DescribeFeatureGroup and ListFeatureGroups APIs."
   ]
  },
  {
   "cell_type": "code",
   "execution_count": 32,
   "id": "124fa88d-c19f-461f-87f1-e880b31cc24f",
   "metadata": {
    "tags": []
   },
   "outputs": [
    {
     "data": {
      "text/plain": [
       "{'FeatureGroupArn': 'arn:aws:sagemaker:us-east-1:904981812149:feature-group/neighborhood_politics_feature_group-28-22-08-36',\n",
       " 'FeatureGroupName': 'neighborhood_politics_feature_group-28-22-08-36',\n",
       " 'RecordIdentifierFeatureName': 'neighborhood-political',\n",
       " 'EventTimeFeatureName': 'event_time',\n",
       " 'FeatureDefinitions': [{'FeatureName': 'neighborhood-political',\n",
       "   'FeatureType': 'String'},\n",
       "  {'FeatureName': 'less_1_ocean', 'FeatureType': 'Integral'},\n",
       "  {'FeatureName': 'inland', 'FeatureType': 'Integral'},\n",
       "  {'FeatureName': 'island', 'FeatureType': 'Integral'},\n",
       "  {'FeatureName': 'near_bay', 'FeatureType': 'Integral'},\n",
       "  {'FeatureName': 'near_ocean', 'FeatureType': 'Integral'},\n",
       "  {'FeatureName': 'median_house_value', 'FeatureType': 'Fractional'},\n",
       "  {'FeatureName': 'median_house_age_group', 'FeatureType': 'Fractional'},\n",
       "  {'FeatureName': 'total_households', 'FeatureType': 'Integral'},\n",
       "  {'FeatureName': 'bedrooms_per_household', 'FeatureType': 'Fractional'},\n",
       "  {'FeatureName': 'locality_code', 'FeatureType': 'Integral'},\n",
       "  {'FeatureName': 'event_time', 'FeatureType': 'Fractional'}],\n",
       " 'CreationTime': datetime.datetime(2024, 5, 28, 22, 8, 37, 127000, tzinfo=tzlocal()),\n",
       " 'OnlineStoreConfig': {'EnableOnlineStore': True},\n",
       " 'OfflineStoreConfig': {'S3StorageConfig': {'S3Uri': 's3://sagemaker-us-east-1-904981812149/sagemaker-featurestore-demo',\n",
       "   'ResolvedOutputS3Uri': 's3://sagemaker-us-east-1-904981812149/sagemaker-featurestore-demo/904981812149/sagemaker/us-east-1/offline-store/neighborhood_politics_feature_group-28-22-08-36-1716934117/data'},\n",
       "  'DisableGlueTableCreation': False,\n",
       "  'DataCatalogConfig': {'TableName': 'neighborhood_politics_feature_group_28_22_08_36_1716934117',\n",
       "   'Catalog': 'AwsDataCatalog',\n",
       "   'Database': 'sagemaker_featurestore'}},\n",
       " 'ThroughputConfig': {'ThroughputMode': 'OnDemand'},\n",
       " 'RoleArn': 'arn:aws:iam::904981812149:role/LabRole',\n",
       " 'FeatureGroupStatus': 'Created',\n",
       " 'OnlineStoreTotalSizeBytes': 0,\n",
       " 'ResponseMetadata': {'RequestId': 'd973ac38-7cf1-4c4d-a6dc-caefbd21be92',\n",
       "  'HTTPStatusCode': 200,\n",
       "  'HTTPHeaders': {'x-amzn-requestid': 'd973ac38-7cf1-4c4d-a6dc-caefbd21be92',\n",
       "   'content-type': 'application/x-amz-json-1.1',\n",
       "   'content-length': '2180',\n",
       "   'date': 'Tue, 28 May 2024 22:08:52 GMT'},\n",
       "  'RetryAttempts': 0}}"
      ]
     },
     "execution_count": 32,
     "metadata": {},
     "output_type": "execute_result"
    }
   ],
   "source": [
    "neighborhood_politics_feature_group.describe()"
   ]
  },
  {
   "cell_type": "code",
   "execution_count": 33,
   "id": "4801067e-b0c3-4248-bd4e-6209bbff7f18",
   "metadata": {},
   "outputs": [
    {
     "data": {
      "text/plain": [
       "{'FeatureGroupSummaries': [{'FeatureGroupName': 'neighborhood_politics_feature_group-28-22-08-36',\n",
       "   'FeatureGroupArn': 'arn:aws:sagemaker:us-east-1:904981812149:feature-group/neighborhood_politics_feature_group-28-22-08-36',\n",
       "   'CreationTime': datetime.datetime(2024, 5, 28, 22, 8, 37, 127000, tzinfo=tzlocal()),\n",
       "   'FeatureGroupStatus': 'Created'},\n",
       "  {'FeatureGroupName': 'neighborhood_politics_feature_group-28-21-56-47',\n",
       "   'FeatureGroupArn': 'arn:aws:sagemaker:us-east-1:904981812149:feature-group/neighborhood_politics_feature_group-28-21-56-47',\n",
       "   'CreationTime': datetime.datetime(2024, 5, 28, 21, 57, 4, 661000, tzinfo=tzlocal()),\n",
       "   'FeatureGroupStatus': 'Created',\n",
       "   'OfflineStoreStatus': {'Status': 'Active'}}],\n",
       " 'ResponseMetadata': {'RequestId': '0c90a5ee-2dbc-495e-bbe5-338b46d3f2bd',\n",
       "  'HTTPStatusCode': 200,\n",
       "  'HTTPHeaders': {'x-amzn-requestid': '0c90a5ee-2dbc-495e-bbe5-338b46d3f2bd',\n",
       "   'content-type': 'application/x-amz-json-1.1',\n",
       "   'content-length': '582',\n",
       "   'date': 'Tue, 28 May 2024 22:08:52 GMT'},\n",
       "  'RetryAttempts': 0}}"
      ]
     },
     "execution_count": 33,
     "metadata": {},
     "output_type": "execute_result"
    }
   ],
   "source": [
    "sagemaker_client.list_feature_groups()  # use boto client to list FeatureGroups\n"
   ]
  },
  {
   "cell_type": "markdown",
   "id": "44317046-df33-40fa-bc31-c37ba07404a7",
   "metadata": {},
   "source": [
    "### PutRecords into FeatureGroup\n"
   ]
  },
  {
   "cell_type": "markdown",
   "id": "6cc70b3d-b38a-4995-964b-45af2a877bbc",
   "metadata": {},
   "source": [
    "After the FeatureGroups have been created, we can put data into the FeatureGroups by using the PutRecord API. This API can handle high TPS and is designed to be called by different streams. The data from all of these Put requests is buffered and written to S3 in chunks. The files will be written to the offline store within a few minutes of ingestion. For this example, to accelerate the ingestion process, we are specifying multiple workers to do the job simultaneously. It will take ~1min to ingest data to the 2 FeatureGroups, respectively."
   ]
  },
  {
   "cell_type": "code",
   "execution_count": 34,
   "id": "58b94315-2595-458c-8aed-583ca4d70ccb",
   "metadata": {},
   "outputs": [
    {
     "data": {
      "text/plain": [
       "IngestionManagerPandas(feature_group_name='neighborhood_politics_feature_group-28-22-08-36', feature_definitions={'neighborhood-political': {'FeatureName': 'neighborhood-political', 'FeatureType': 'String'}, 'less_1_ocean': {'FeatureName': 'less_1_ocean', 'FeatureType': 'Integral'}, 'inland': {'FeatureName': 'inland', 'FeatureType': 'Integral'}, 'island': {'FeatureName': 'island', 'FeatureType': 'Integral'}, 'near_bay': {'FeatureName': 'near_bay', 'FeatureType': 'Integral'}, 'near_ocean': {'FeatureName': 'near_ocean', 'FeatureType': 'Integral'}, 'median_house_value': {'FeatureName': 'median_house_value', 'FeatureType': 'Fractional'}, 'median_house_age_group': {'FeatureName': 'median_house_age_group', 'FeatureType': 'Fractional'}, 'total_households': {'FeatureName': 'total_households', 'FeatureType': 'Integral'}, 'bedrooms_per_household': {'FeatureName': 'bedrooms_per_household', 'FeatureType': 'Fractional'}, 'locality_code': {'FeatureName': 'locality_code', 'FeatureType': 'Integral'}, 'event_time': {'FeatureName': 'event_time', 'FeatureType': 'Fractional'}}, sagemaker_fs_runtime_client_config=<botocore.config.Config object at 0x7f8ea2f34dc0>, sagemaker_session=<sagemaker.session.Session object at 0x7f8ea3b0f880>, max_workers=3, max_processes=1, profile_name=None, _async_result=<multiprocess.pool.MapResult object at 0x7f8ea174bc40>, _processing_pool=<pool ProcessPool(ncpus=1)>, _failed_indices=[])"
      ]
     },
     "execution_count": 34,
     "metadata": {},
     "output_type": "execute_result"
    }
   ],
   "source": [
    "neighborhood_politics_feature_group.ingest(data_frame=neighborhood_features_cleaned, max_workers=3, wait=True)\n"
   ]
  },
  {
   "cell_type": "code",
   "execution_count": 35,
   "id": "0f9df92e-301a-4167-8416-1c12ca070955",
   "metadata": {},
   "outputs": [
    {
     "data": {
      "text/plain": [
       "{'ResponseMetadata': {'RequestId': 'ea31dc2a-a2db-4aac-aa97-e668bc8ca515',\n",
       "  'HTTPStatusCode': 200,\n",
       "  'HTTPHeaders': {'x-amzn-requestid': 'ea31dc2a-a2db-4aac-aa97-e668bc8ca515',\n",
       "   'content-type': 'application/json',\n",
       "   'content-length': '1012',\n",
       "   'date': 'Tue, 28 May 2024 22:09:39 GMT'},\n",
       "  'RetryAttempts': 0},\n",
       " 'Record': [{'FeatureName': 'neighborhood-political',\n",
       "   'ValueAsString': 'Brooktree'},\n",
       "  {'FeatureName': 'less_1_ocean', 'ValueAsString': '1'},\n",
       "  {'FeatureName': 'inland', 'ValueAsString': '0'},\n",
       "  {'FeatureName': 'island', 'ValueAsString': '0'},\n",
       "  {'FeatureName': 'near_bay', 'ValueAsString': '0'},\n",
       "  {'FeatureName': 'near_ocean', 'ValueAsString': '0'},\n",
       "  {'FeatureName': 'median_house_value', 'ValueAsString': '257400.0'},\n",
       "  {'FeatureName': 'median_house_age_group', 'ValueAsString': '0.0'},\n",
       "  {'FeatureName': 'total_households', 'ValueAsString': '1438'},\n",
       "  {'FeatureName': 'bedrooms_per_household',\n",
       "   'ValueAsString': '0.3740407180372474'},\n",
       "  {'FeatureName': 'locality_code', 'ValueAsString': '787'},\n",
       "  {'FeatureName': 'event_time', 'ValueAsString': '1716934117.0'}]}"
      ]
     },
     "execution_count": 35,
     "metadata": {},
     "output_type": "execute_result"
    }
   ],
   "source": [
    "### Grabbing the Record from the online store\n",
    "record_identifier_value = 'Brooktree'\n",
    "\n",
    "featurestore_runtime.get_record(\n",
    "    FeatureGroupName=neighborhood_politics_feature_group_name,\n",
    "    RecordIdentifierValueAsString=record_identifier_value,\n",
    ")"
   ]
  },
  {
   "cell_type": "code",
   "execution_count": 36,
   "id": "14c9b001-4d1c-4fd9-8bc1-5ada8bc41b5f",
   "metadata": {},
   "outputs": [
    {
     "data": {
      "text/plain": [
       "{'ResponseMetadata': {'RequestId': '767f6797-d729-4f6e-91f4-a407ea6498f4',\n",
       "  'HTTPStatusCode': 200,\n",
       "  'HTTPHeaders': {'x-amzn-requestid': '767f6797-d729-4f6e-91f4-a407ea6498f4',\n",
       "   'content-type': 'application/json',\n",
       "   'content-length': '1007',\n",
       "   'date': 'Tue, 28 May 2024 22:09:39 GMT'},\n",
       "  'RetryAttempts': 0},\n",
       " 'Record': [{'FeatureName': 'neighborhood-political',\n",
       "   'ValueAsString': \"Fisherman's Wharf\"},\n",
       "  {'FeatureName': 'less_1_ocean', 'ValueAsString': '0'},\n",
       "  {'FeatureName': 'inland', 'ValueAsString': '0'},\n",
       "  {'FeatureName': 'island', 'ValueAsString': '0'},\n",
       "  {'FeatureName': 'near_bay', 'ValueAsString': '1'},\n",
       "  {'FeatureName': 'near_ocean', 'ValueAsString': '0'},\n",
       "  {'FeatureName': 'median_house_value', 'ValueAsString': '500000.0'},\n",
       "  {'FeatureName': 'median_house_age_group', 'ValueAsString': '50.0'},\n",
       "  {'FeatureName': 'total_households', 'ValueAsString': '250'},\n",
       "  {'FeatureName': 'bedrooms_per_household', 'ValueAsString': '1.268'},\n",
       "  {'FeatureName': 'locality_code', 'ValueAsString': '781'},\n",
       "  {'FeatureName': 'event_time', 'ValueAsString': '1716934117.0'}]}"
      ]
     },
     "execution_count": 36,
     "metadata": {},
     "output_type": "execute_result"
    }
   ],
   "source": [
    "### Grabbing the Record from the online store\n",
    "record_identifier_value = \"Fisherman's Wharf\"\n",
    "\n",
    "featurestore_runtime.get_record(\n",
    "    FeatureGroupName=neighborhood_politics_feature_group_name,\n",
    "    RecordIdentifierValueAsString=record_identifier_value,\n",
    ")"
   ]
  },
  {
   "cell_type": "code",
   "execution_count": 37,
   "id": "d5f22465-2881-4d60-9ef9-991caa582982",
   "metadata": {
    "tags": []
   },
   "outputs": [
    {
     "data": {
      "text/plain": [
       "{'ResponseMetadata': {'RequestId': 'ac672514-1209-4b00-9b47-a0cc25ee19d8',\n",
       "  'HTTPStatusCode': 200,\n",
       "  'HTTPHeaders': {'x-amzn-requestid': 'ac672514-1209-4b00-9b47-a0cc25ee19d8',\n",
       "   'content-type': 'application/json',\n",
       "   'content-length': '1010',\n",
       "   'date': 'Tue, 28 May 2024 22:09:39 GMT'},\n",
       "  'RetryAttempts': 0},\n",
       " 'Record': [{'FeatureName': 'neighborhood-political',\n",
       "   'ValueAsString': 'Los Osos'},\n",
       "  {'FeatureName': 'less_1_ocean', 'ValueAsString': '0'},\n",
       "  {'FeatureName': 'inland', 'ValueAsString': '0'},\n",
       "  {'FeatureName': 'island', 'ValueAsString': '0'},\n",
       "  {'FeatureName': 'near_bay', 'ValueAsString': '0'},\n",
       "  {'FeatureName': 'near_ocean', 'ValueAsString': '1'},\n",
       "  {'FeatureName': 'median_house_value', 'ValueAsString': '221612.5'},\n",
       "  {'FeatureName': 'median_house_age_group', 'ValueAsString': '10.0'},\n",
       "  {'FeatureName': 'total_households', 'ValueAsString': '612'},\n",
       "  {'FeatureName': 'bedrooms_per_household',\n",
       "   'ValueAsString': '1.0956112852664577'},\n",
       "  {'FeatureName': 'locality_code', 'ValueAsString': '55'},\n",
       "  {'FeatureName': 'event_time', 'ValueAsString': '1716934117.0'}]}"
      ]
     },
     "execution_count": 37,
     "metadata": {},
     "output_type": "execute_result"
    }
   ],
   "source": [
    "### Grabbing the Record from the online store\n",
    "record_identifier_value =  'Los Osos'\n",
    "\n",
    "featurestore_runtime.get_record(\n",
    "    FeatureGroupName=neighborhood_politics_feature_group_name,\n",
    "    RecordIdentifierValueAsString=record_identifier_value,\n",
    ")"
   ]
  }
 ],
 "metadata": {
  "availableInstances": [
   {
    "_defaultOrder": 0,
    "_isFastLaunch": true,
    "category": "General purpose",
    "gpuNum": 0,
    "hideHardwareSpecs": false,
    "memoryGiB": 4,
    "name": "ml.t3.medium",
    "vcpuNum": 2
   },
   {
    "_defaultOrder": 1,
    "_isFastLaunch": false,
    "category": "General purpose",
    "gpuNum": 0,
    "hideHardwareSpecs": false,
    "memoryGiB": 8,
    "name": "ml.t3.large",
    "vcpuNum": 2
   },
   {
    "_defaultOrder": 2,
    "_isFastLaunch": false,
    "category": "General purpose",
    "gpuNum": 0,
    "hideHardwareSpecs": false,
    "memoryGiB": 16,
    "name": "ml.t3.xlarge",
    "vcpuNum": 4
   },
   {
    "_defaultOrder": 3,
    "_isFastLaunch": false,
    "category": "General purpose",
    "gpuNum": 0,
    "hideHardwareSpecs": false,
    "memoryGiB": 32,
    "name": "ml.t3.2xlarge",
    "vcpuNum": 8
   },
   {
    "_defaultOrder": 4,
    "_isFastLaunch": true,
    "category": "General purpose",
    "gpuNum": 0,
    "hideHardwareSpecs": false,
    "memoryGiB": 8,
    "name": "ml.m5.large",
    "vcpuNum": 2
   },
   {
    "_defaultOrder": 5,
    "_isFastLaunch": false,
    "category": "General purpose",
    "gpuNum": 0,
    "hideHardwareSpecs": false,
    "memoryGiB": 16,
    "name": "ml.m5.xlarge",
    "vcpuNum": 4
   },
   {
    "_defaultOrder": 6,
    "_isFastLaunch": false,
    "category": "General purpose",
    "gpuNum": 0,
    "hideHardwareSpecs": false,
    "memoryGiB": 32,
    "name": "ml.m5.2xlarge",
    "vcpuNum": 8
   },
   {
    "_defaultOrder": 7,
    "_isFastLaunch": false,
    "category": "General purpose",
    "gpuNum": 0,
    "hideHardwareSpecs": false,
    "memoryGiB": 64,
    "name": "ml.m5.4xlarge",
    "vcpuNum": 16
   },
   {
    "_defaultOrder": 8,
    "_isFastLaunch": false,
    "category": "General purpose",
    "gpuNum": 0,
    "hideHardwareSpecs": false,
    "memoryGiB": 128,
    "name": "ml.m5.8xlarge",
    "vcpuNum": 32
   },
   {
    "_defaultOrder": 9,
    "_isFastLaunch": false,
    "category": "General purpose",
    "gpuNum": 0,
    "hideHardwareSpecs": false,
    "memoryGiB": 192,
    "name": "ml.m5.12xlarge",
    "vcpuNum": 48
   },
   {
    "_defaultOrder": 10,
    "_isFastLaunch": false,
    "category": "General purpose",
    "gpuNum": 0,
    "hideHardwareSpecs": false,
    "memoryGiB": 256,
    "name": "ml.m5.16xlarge",
    "vcpuNum": 64
   },
   {
    "_defaultOrder": 11,
    "_isFastLaunch": false,
    "category": "General purpose",
    "gpuNum": 0,
    "hideHardwareSpecs": false,
    "memoryGiB": 384,
    "name": "ml.m5.24xlarge",
    "vcpuNum": 96
   },
   {
    "_defaultOrder": 12,
    "_isFastLaunch": false,
    "category": "General purpose",
    "gpuNum": 0,
    "hideHardwareSpecs": false,
    "memoryGiB": 8,
    "name": "ml.m5d.large",
    "vcpuNum": 2
   },
   {
    "_defaultOrder": 13,
    "_isFastLaunch": false,
    "category": "General purpose",
    "gpuNum": 0,
    "hideHardwareSpecs": false,
    "memoryGiB": 16,
    "name": "ml.m5d.xlarge",
    "vcpuNum": 4
   },
   {
    "_defaultOrder": 14,
    "_isFastLaunch": false,
    "category": "General purpose",
    "gpuNum": 0,
    "hideHardwareSpecs": false,
    "memoryGiB": 32,
    "name": "ml.m5d.2xlarge",
    "vcpuNum": 8
   },
   {
    "_defaultOrder": 15,
    "_isFastLaunch": false,
    "category": "General purpose",
    "gpuNum": 0,
    "hideHardwareSpecs": false,
    "memoryGiB": 64,
    "name": "ml.m5d.4xlarge",
    "vcpuNum": 16
   },
   {
    "_defaultOrder": 16,
    "_isFastLaunch": false,
    "category": "General purpose",
    "gpuNum": 0,
    "hideHardwareSpecs": false,
    "memoryGiB": 128,
    "name": "ml.m5d.8xlarge",
    "vcpuNum": 32
   },
   {
    "_defaultOrder": 17,
    "_isFastLaunch": false,
    "category": "General purpose",
    "gpuNum": 0,
    "hideHardwareSpecs": false,
    "memoryGiB": 192,
    "name": "ml.m5d.12xlarge",
    "vcpuNum": 48
   },
   {
    "_defaultOrder": 18,
    "_isFastLaunch": false,
    "category": "General purpose",
    "gpuNum": 0,
    "hideHardwareSpecs": false,
    "memoryGiB": 256,
    "name": "ml.m5d.16xlarge",
    "vcpuNum": 64
   },
   {
    "_defaultOrder": 19,
    "_isFastLaunch": false,
    "category": "General purpose",
    "gpuNum": 0,
    "hideHardwareSpecs": false,
    "memoryGiB": 384,
    "name": "ml.m5d.24xlarge",
    "vcpuNum": 96
   },
   {
    "_defaultOrder": 20,
    "_isFastLaunch": false,
    "category": "General purpose",
    "gpuNum": 0,
    "hideHardwareSpecs": true,
    "memoryGiB": 0,
    "name": "ml.geospatial.interactive",
    "supportedImageNames": [
     "sagemaker-geospatial-v1-0"
    ],
    "vcpuNum": 0
   },
   {
    "_defaultOrder": 21,
    "_isFastLaunch": true,
    "category": "Compute optimized",
    "gpuNum": 0,
    "hideHardwareSpecs": false,
    "memoryGiB": 4,
    "name": "ml.c5.large",
    "vcpuNum": 2
   },
   {
    "_defaultOrder": 22,
    "_isFastLaunch": false,
    "category": "Compute optimized",
    "gpuNum": 0,
    "hideHardwareSpecs": false,
    "memoryGiB": 8,
    "name": "ml.c5.xlarge",
    "vcpuNum": 4
   },
   {
    "_defaultOrder": 23,
    "_isFastLaunch": false,
    "category": "Compute optimized",
    "gpuNum": 0,
    "hideHardwareSpecs": false,
    "memoryGiB": 16,
    "name": "ml.c5.2xlarge",
    "vcpuNum": 8
   },
   {
    "_defaultOrder": 24,
    "_isFastLaunch": false,
    "category": "Compute optimized",
    "gpuNum": 0,
    "hideHardwareSpecs": false,
    "memoryGiB": 32,
    "name": "ml.c5.4xlarge",
    "vcpuNum": 16
   },
   {
    "_defaultOrder": 25,
    "_isFastLaunch": false,
    "category": "Compute optimized",
    "gpuNum": 0,
    "hideHardwareSpecs": false,
    "memoryGiB": 72,
    "name": "ml.c5.9xlarge",
    "vcpuNum": 36
   },
   {
    "_defaultOrder": 26,
    "_isFastLaunch": false,
    "category": "Compute optimized",
    "gpuNum": 0,
    "hideHardwareSpecs": false,
    "memoryGiB": 96,
    "name": "ml.c5.12xlarge",
    "vcpuNum": 48
   },
   {
    "_defaultOrder": 27,
    "_isFastLaunch": false,
    "category": "Compute optimized",
    "gpuNum": 0,
    "hideHardwareSpecs": false,
    "memoryGiB": 144,
    "name": "ml.c5.18xlarge",
    "vcpuNum": 72
   },
   {
    "_defaultOrder": 28,
    "_isFastLaunch": false,
    "category": "Compute optimized",
    "gpuNum": 0,
    "hideHardwareSpecs": false,
    "memoryGiB": 192,
    "name": "ml.c5.24xlarge",
    "vcpuNum": 96
   },
   {
    "_defaultOrder": 29,
    "_isFastLaunch": true,
    "category": "Accelerated computing",
    "gpuNum": 1,
    "hideHardwareSpecs": false,
    "memoryGiB": 16,
    "name": "ml.g4dn.xlarge",
    "vcpuNum": 4
   },
   {
    "_defaultOrder": 30,
    "_isFastLaunch": false,
    "category": "Accelerated computing",
    "gpuNum": 1,
    "hideHardwareSpecs": false,
    "memoryGiB": 32,
    "name": "ml.g4dn.2xlarge",
    "vcpuNum": 8
   },
   {
    "_defaultOrder": 31,
    "_isFastLaunch": false,
    "category": "Accelerated computing",
    "gpuNum": 1,
    "hideHardwareSpecs": false,
    "memoryGiB": 64,
    "name": "ml.g4dn.4xlarge",
    "vcpuNum": 16
   },
   {
    "_defaultOrder": 32,
    "_isFastLaunch": false,
    "category": "Accelerated computing",
    "gpuNum": 1,
    "hideHardwareSpecs": false,
    "memoryGiB": 128,
    "name": "ml.g4dn.8xlarge",
    "vcpuNum": 32
   },
   {
    "_defaultOrder": 33,
    "_isFastLaunch": false,
    "category": "Accelerated computing",
    "gpuNum": 4,
    "hideHardwareSpecs": false,
    "memoryGiB": 192,
    "name": "ml.g4dn.12xlarge",
    "vcpuNum": 48
   },
   {
    "_defaultOrder": 34,
    "_isFastLaunch": false,
    "category": "Accelerated computing",
    "gpuNum": 1,
    "hideHardwareSpecs": false,
    "memoryGiB": 256,
    "name": "ml.g4dn.16xlarge",
    "vcpuNum": 64
   },
   {
    "_defaultOrder": 35,
    "_isFastLaunch": false,
    "category": "Accelerated computing",
    "gpuNum": 1,
    "hideHardwareSpecs": false,
    "memoryGiB": 61,
    "name": "ml.p3.2xlarge",
    "vcpuNum": 8
   },
   {
    "_defaultOrder": 36,
    "_isFastLaunch": false,
    "category": "Accelerated computing",
    "gpuNum": 4,
    "hideHardwareSpecs": false,
    "memoryGiB": 244,
    "name": "ml.p3.8xlarge",
    "vcpuNum": 32
   },
   {
    "_defaultOrder": 37,
    "_isFastLaunch": false,
    "category": "Accelerated computing",
    "gpuNum": 8,
    "hideHardwareSpecs": false,
    "memoryGiB": 488,
    "name": "ml.p3.16xlarge",
    "vcpuNum": 64
   },
   {
    "_defaultOrder": 38,
    "_isFastLaunch": false,
    "category": "Accelerated computing",
    "gpuNum": 8,
    "hideHardwareSpecs": false,
    "memoryGiB": 768,
    "name": "ml.p3dn.24xlarge",
    "vcpuNum": 96
   },
   {
    "_defaultOrder": 39,
    "_isFastLaunch": false,
    "category": "Memory Optimized",
    "gpuNum": 0,
    "hideHardwareSpecs": false,
    "memoryGiB": 16,
    "name": "ml.r5.large",
    "vcpuNum": 2
   },
   {
    "_defaultOrder": 40,
    "_isFastLaunch": false,
    "category": "Memory Optimized",
    "gpuNum": 0,
    "hideHardwareSpecs": false,
    "memoryGiB": 32,
    "name": "ml.r5.xlarge",
    "vcpuNum": 4
   },
   {
    "_defaultOrder": 41,
    "_isFastLaunch": false,
    "category": "Memory Optimized",
    "gpuNum": 0,
    "hideHardwareSpecs": false,
    "memoryGiB": 64,
    "name": "ml.r5.2xlarge",
    "vcpuNum": 8
   },
   {
    "_defaultOrder": 42,
    "_isFastLaunch": false,
    "category": "Memory Optimized",
    "gpuNum": 0,
    "hideHardwareSpecs": false,
    "memoryGiB": 128,
    "name": "ml.r5.4xlarge",
    "vcpuNum": 16
   },
   {
    "_defaultOrder": 43,
    "_isFastLaunch": false,
    "category": "Memory Optimized",
    "gpuNum": 0,
    "hideHardwareSpecs": false,
    "memoryGiB": 256,
    "name": "ml.r5.8xlarge",
    "vcpuNum": 32
   },
   {
    "_defaultOrder": 44,
    "_isFastLaunch": false,
    "category": "Memory Optimized",
    "gpuNum": 0,
    "hideHardwareSpecs": false,
    "memoryGiB": 384,
    "name": "ml.r5.12xlarge",
    "vcpuNum": 48
   },
   {
    "_defaultOrder": 45,
    "_isFastLaunch": false,
    "category": "Memory Optimized",
    "gpuNum": 0,
    "hideHardwareSpecs": false,
    "memoryGiB": 512,
    "name": "ml.r5.16xlarge",
    "vcpuNum": 64
   },
   {
    "_defaultOrder": 46,
    "_isFastLaunch": false,
    "category": "Memory Optimized",
    "gpuNum": 0,
    "hideHardwareSpecs": false,
    "memoryGiB": 768,
    "name": "ml.r5.24xlarge",
    "vcpuNum": 96
   },
   {
    "_defaultOrder": 47,
    "_isFastLaunch": false,
    "category": "Accelerated computing",
    "gpuNum": 1,
    "hideHardwareSpecs": false,
    "memoryGiB": 16,
    "name": "ml.g5.xlarge",
    "vcpuNum": 4
   },
   {
    "_defaultOrder": 48,
    "_isFastLaunch": false,
    "category": "Accelerated computing",
    "gpuNum": 1,
    "hideHardwareSpecs": false,
    "memoryGiB": 32,
    "name": "ml.g5.2xlarge",
    "vcpuNum": 8
   },
   {
    "_defaultOrder": 49,
    "_isFastLaunch": false,
    "category": "Accelerated computing",
    "gpuNum": 1,
    "hideHardwareSpecs": false,
    "memoryGiB": 64,
    "name": "ml.g5.4xlarge",
    "vcpuNum": 16
   },
   {
    "_defaultOrder": 50,
    "_isFastLaunch": false,
    "category": "Accelerated computing",
    "gpuNum": 1,
    "hideHardwareSpecs": false,
    "memoryGiB": 128,
    "name": "ml.g5.8xlarge",
    "vcpuNum": 32
   },
   {
    "_defaultOrder": 51,
    "_isFastLaunch": false,
    "category": "Accelerated computing",
    "gpuNum": 1,
    "hideHardwareSpecs": false,
    "memoryGiB": 256,
    "name": "ml.g5.16xlarge",
    "vcpuNum": 64
   },
   {
    "_defaultOrder": 52,
    "_isFastLaunch": false,
    "category": "Accelerated computing",
    "gpuNum": 4,
    "hideHardwareSpecs": false,
    "memoryGiB": 192,
    "name": "ml.g5.12xlarge",
    "vcpuNum": 48
   },
   {
    "_defaultOrder": 53,
    "_isFastLaunch": false,
    "category": "Accelerated computing",
    "gpuNum": 4,
    "hideHardwareSpecs": false,
    "memoryGiB": 384,
    "name": "ml.g5.24xlarge",
    "vcpuNum": 96
   },
   {
    "_defaultOrder": 54,
    "_isFastLaunch": false,
    "category": "Accelerated computing",
    "gpuNum": 8,
    "hideHardwareSpecs": false,
    "memoryGiB": 768,
    "name": "ml.g5.48xlarge",
    "vcpuNum": 192
   },
   {
    "_defaultOrder": 55,
    "_isFastLaunch": false,
    "category": "Accelerated computing",
    "gpuNum": 8,
    "hideHardwareSpecs": false,
    "memoryGiB": 1152,
    "name": "ml.p4d.24xlarge",
    "vcpuNum": 96
   },
   {
    "_defaultOrder": 56,
    "_isFastLaunch": false,
    "category": "Accelerated computing",
    "gpuNum": 8,
    "hideHardwareSpecs": false,
    "memoryGiB": 1152,
    "name": "ml.p4de.24xlarge",
    "vcpuNum": 96
   },
   {
    "_defaultOrder": 57,
    "_isFastLaunch": false,
    "category": "Accelerated computing",
    "gpuNum": 0,
    "hideHardwareSpecs": false,
    "memoryGiB": 32,
    "name": "ml.trn1.2xlarge",
    "vcpuNum": 8
   },
   {
    "_defaultOrder": 58,
    "_isFastLaunch": false,
    "category": "Accelerated computing",
    "gpuNum": 0,
    "hideHardwareSpecs": false,
    "memoryGiB": 512,
    "name": "ml.trn1.32xlarge",
    "vcpuNum": 128
   },
   {
    "_defaultOrder": 59,
    "_isFastLaunch": false,
    "category": "Accelerated computing",
    "gpuNum": 0,
    "hideHardwareSpecs": false,
    "memoryGiB": 512,
    "name": "ml.trn1n.32xlarge",
    "vcpuNum": 128
   }
  ],
  "instance_type": "ml.t3.medium",
  "kernelspec": {
   "display_name": "Python 3 (Data Science 3.0)",
   "language": "python",
   "name": "python3__SAGEMAKER_INTERNAL__arn:aws:sagemaker:us-east-1:081325390199:image/sagemaker-data-science-310-v1"
  },
  "language_info": {
   "codemirror_mode": {
    "name": "ipython",
    "version": 3
   },
   "file_extension": ".py",
   "mimetype": "text/x-python",
   "name": "python",
   "nbconvert_exporter": "python",
   "pygments_lexer": "ipython3",
   "version": "3.10.6"
  }
 },
 "nbformat": 4,
 "nbformat_minor": 5
}
